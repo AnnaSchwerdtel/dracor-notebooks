{
 "cells": [
  {
   "cell_type": "markdown",
   "metadata": {},
   "source": [
    "# DraCor API Tutorial"
   ]
  },
  {
   "cell_type": "markdown",
   "metadata": {},
   "source": [
    "## 0. Import libraries"
   ]
  },
  {
   "cell_type": "markdown",
   "metadata": {},
   "source": [
    "To use the [DraCor-API](https://dracor.org/doc/api) we need to send HTTP-Requests to the API: `https://dracor.org/api`. In Python HTTP-Request can be sent with the library `requests` (https://2.python-requests.org). We have to import this library:"
   ]
  },
  {
   "cell_type": "code",
   "execution_count": 9,
   "metadata": {},
   "outputs": [],
   "source": [
    "import requests"
   ]
  },
  {
   "cell_type": "markdown",
   "metadata": {},
   "source": [
    "To fascilitate the work with the metadata of the corpora in DraCor, we can use the library `pandas` (https://pandas.pydata.org/docs/). It is imported below:"
   ]
  },
  {
   "cell_type": "code",
   "execution_count": 10,
   "metadata": {},
   "outputs": [],
   "source": [
    "import pandas as pd"
   ]
  },
  {
   "cell_type": "markdown",
   "metadata": {},
   "source": [
    "If the imports fail, the packages must be installed first. Delete the hash in the cell below to run the `pip install` command."
   ]
  },
  {
   "cell_type": "code",
   "execution_count": 11,
   "metadata": {},
   "outputs": [],
   "source": [
    "#! pip install requests pandas"
   ]
  },
  {
   "cell_type": "markdown",
   "metadata": {},
   "source": [
    "## 1. Basic API calls without selected parameters"
   ]
  },
  {
   "cell_type": "markdown",
   "metadata": {},
   "source": [
    "## `/info`: Info about the API \n",
    "We can get information about the API and DraCor data by sending **get requests** to the API. \n",
    "\n",
    "For this, we take the base URL, saved in the variable `API_URL` below:"
   ]
  },
  {
   "cell_type": "code",
   "execution_count": 12,
   "metadata": {},
   "outputs": [],
   "source": [
    "# save base URL in variable  \n",
    "API_URL = \"https://dracor.org/api/\""
   ]
  },
  {
   "cell_type": "markdown",
   "metadata": {},
   "source": [
    "We can then extend the URL to ask for specific information. If we want to know more about the API itself, we can use the parameter `info/` saved in the variable `INFO_EXTENSION`.\n",
    "\n",
    "\n",
    "This will give us:\n",
    "* name\n",
    "* version\n",
    "* status\n",
    "* the version of the database (\"existdb\")\n",
    "\n",
    "The documentation of this endpoint can be found here: https://dracor.org/doc/api#/public/api-info"
   ]
  },
  {
   "cell_type": "code",
   "execution_count": 18,
   "metadata": {},
   "outputs": [
    {
     "data": {
      "text/plain": [
       "'{\\n  \"name\" : \"DraCor API\",\\n  \"version\" : \"0.86.0\",\\n  \"status\" : \"beta\",\\n  \"existdb\" : \"6.0.1\"\\n}'"
      ]
     },
     "execution_count": 18,
     "metadata": {},
     "output_type": "execute_result"
    }
   ],
   "source": [
    "# to get the info we extend the API URL by the parameter \"info\"\n",
    "# save \"info\" parameter in variable\n",
    "INFO_EXTENSION = \"info\"\n",
    "\n",
    "# add extension to the base URL\n",
    "api_info_url = API_URL + INFO_EXTENSION\n",
    "\n",
    "# perform get request\n",
    "r = requests.get(api_info_url)\n",
    "r.text"
   ]
  },
  {
   "cell_type": "markdown",
   "metadata": {},
   "source": [
    "The API returns the information in the JSON format, which we have to parse. We can call `.json()` on the request object."
   ]
  },
  {
   "cell_type": "code",
   "execution_count": 6,
   "metadata": {},
   "outputs": [
    {
     "data": {
      "text/plain": [
       "{'name': 'DraCor API',\n",
       " 'version': '0.86.0',\n",
       " 'status': 'beta',\n",
       " 'existdb': '6.0.1'}"
      ]
     },
     "execution_count": 6,
     "metadata": {},
     "output_type": "execute_result"
    }
   ],
   "source": [
    "# read response as json\n",
    "parsed_response = r.json()\n",
    "parsed_response"
   ]
  },
  {
   "cell_type": "markdown",
   "metadata": {},
   "source": [
    "As the response is a dictionary object, we can e.g. get the current version of the API by accessing it with the keyword \"version\"."
   ]
  },
  {
   "cell_type": "code",
   "execution_count": 7,
   "metadata": {},
   "outputs": [
    {
     "name": "stdout",
     "output_type": "stream",
     "text": [
      "The current version of the Dracor-API is 0.86.0.\n"
     ]
    }
   ],
   "source": [
    "print(f\"The current version of the Dracor-API is {parsed_response['version']}.\")"
   ]
  },
  {
   "cell_type": "markdown",
   "metadata": {},
   "source": [
    "## `corpora/`: List available corpora \n",
    "\n",
    "With the extension `corpora/` saved in `CORPORA_EXT_PLAIN` we can display the list of corpora available in DraCor. \n",
    "\n",
    "The documentation of this endpoint can be found here: https://dracor.org/doc/api#/public/list-corpora"
   ]
  },
  {
   "cell_type": "code",
   "execution_count": 17,
   "metadata": {},
   "outputs": [
    {
     "name": "stdout",
     "output_type": "stream",
     "text": [
      "URL for getting the list of corpora: https://dracor.org/api/corpora\n",
      "\n",
      "als: Alsatian Drama Corpus\n",
      "bash: Bashkir Drama Corpus\n",
      "cal: Calderón Drama Corpus\n",
      "fre: French Drama Corpus\n",
      "ger: German Drama Corpus\n",
      "gersh: German Shakespeare Drama Corpus\n",
      "greek: Greek Drama Corpus\n",
      "hun: Hungarian Drama Corpus\n",
      "ita: Italian Drama Corpus\n",
      "rom: Roman Drama Corpus\n",
      "rus: Russian Drama Corpus\n",
      "shake: Shakespeare Drama Corpus\n",
      "span: Spanish Drama Corpus\n",
      "swe: Swedish Drama Corpus\n",
      "tat: Tatar Drama Corpus\n"
     ]
    }
   ],
   "source": [
    "# save \"corpora\" parameter in variable\n",
    "CORPORA_EXT_PLAIN = \"corpora\"\n",
    "# add parameter to base URL to get information about the DraCor corpora \n",
    "api_corpora_url = API_URL + CORPORA_EXT_PLAIN\n",
    "print(f\"URL for getting the list of corpora: {api_corpora_url}\\n\")\n",
    "\n",
    "# perform API request\n",
    "# parse response with .json\n",
    "corpus_list = requests.get(api_corpora_url).json()\n",
    "\n",
    "#save corpus abbreviations in a list for later checking \n",
    "corpus_abbreviations = []\n",
    "\n",
    "# iterate through corpus list and print information\n",
    "for corpus_description in corpus_list:\n",
    "    name = corpus_description[\"name\"]\n",
    "    print(f'{name}: {corpus_description[\"title\"]}')\n",
    "    corpus_abbreviations.append(name)"
   ]
  },
  {
   "cell_type": "markdown",
   "metadata": {},
   "source": [
    "### Include corpora metrics\n",
    "To not only get the abbreviation and the name of corpora but also information about the number of speakers, the word count etc. we can change our API call so that these metrics are included in the response. We can do so by \n",
    "* adding a `?` to indicate that we will pass a key-value pair to the API\n",
    "* add the key-value pair like this `include=metrics`"
   ]
  },
  {
   "cell_type": "code",
   "execution_count": 19,
   "metadata": {},
   "outputs": [
    {
     "name": "stdout",
     "output_type": "stream",
     "text": [
      "URL for getting the list of corpora with metrics included: https://dracor.org/api/corpora?include=metrics\n",
      "\n",
      "Abbreviation: Corpus Name (Number of plays)\n",
      "als: Alsatian Drama Corpus (25)\n",
      "bash: Bashkir Drama Corpus (3)\n",
      "cal: Calderón Drama Corpus (205)\n",
      "fre: French Drama Corpus (1560)\n",
      "ger: German Drama Corpus (591)\n",
      "gersh: German Shakespeare Drama Corpus (38)\n",
      "greek: Greek Drama Corpus (39)\n",
      "hun: Hungarian Drama Corpus (41)\n",
      "ita: Italian Drama Corpus (139)\n",
      "rom: Roman Drama Corpus (36)\n",
      "rus: Russian Drama Corpus (212)\n",
      "shake: Shakespeare Drama Corpus (37)\n",
      "span: Spanish Drama Corpus (25)\n",
      "swe: Swedish Drama Corpus (73)\n",
      "tat: Tatar Drama Corpus (3)\n"
     ]
    }
   ],
   "source": [
    "# save metrics parameter in variable\n",
    "METRICS_PARAM_EXT = \"?include=metrics\"\n",
    "\n",
    "# add parameter to URL to get more information about the corpora \n",
    "api_corpora_metrics_urls = api_corpora_url + METRICS_PARAM_EXT\n",
    "print(f\"URL for getting the list of corpora with metrics included: {api_corpora_metrics_urls}\\n\")\n",
    "\n",
    "# perform API request\n",
    "corpora_metrics = requests.get(\"https://dracor.org/api/corpora?include=metrics\").json()\n",
    "\n",
    "# iterate through corpus list and print information\n",
    "# add the number of plays to the print statement which is retrieved from the corpus metrics\n",
    "print(\"Abbreviation: Corpus Name (Number of plays)\")\n",
    "for corpus in corpora_metrics:\n",
    "    abbreviation = corpus['name']\n",
    "    num_of_plays = corpus['metrics']['text']\n",
    "    print(f\"{abbreviation}: {corpus['title']} ({str(num_of_plays)})\")"
   ]
  },
  {
   "cell_type": "markdown",
   "metadata": {},
   "source": [
    "## 2. API calls with selected parameters\n",
    "To get more information than included in the corpus metrics for a specific corpus, we first need to select a corpus from the list above. "
   ]
  },
  {
   "cell_type": "markdown",
   "metadata": {},
   "source": [
    "###  1. Choose a  `corpusname/`\n",
    "To choose a corpus in the field below, type the abbreviation of the corpus as listed above.\n",
    "The name you choose is saved in the variable `corpusname`.\n",
    "\n",
    "The documentation of this endpoint can be found here: https://dracor.org/doc/api#/public/list-corpus-content"
   ]
  },
  {
   "cell_type": "code",
   "execution_count": 20,
   "metadata": {},
   "outputs": [
    {
     "name": "stdout",
     "output_type": "stream",
     "text": [
      "Please choose a corpusname from the list above. Enter the abbreviation: swe\n",
      "Success!\n"
     ]
    }
   ],
   "source": [
    "while True:\n",
    "    # get corpusname with user input\n",
    "    # save corpusname in variable\n",
    "    corpusname = str(input(\"Please choose a corpusname from the list above. Enter the abbreviation: \"))\n",
    "    if corpusname not in corpus_abbreviations:\n",
    "        print(\"The abbreviation you selected is not in the list. Please enter the abbreviation again.\")\n",
    "    else:\n",
    "        print(\"Success!\")\n",
    "        break"
   ]
  },
  {
   "cell_type": "markdown",
   "metadata": {},
   "source": [
    "### 2. `metadata`\n",
    "To get the metadata for the selected corpus, we need to add the abbreviation of the corpus and the keyword `metadata` to our URL.\n",
    "\n",
    "The documentation of this endpoint can be found here: https://dracor.org/doc/api#/public/corpus-metadata"
   ]
  },
  {
   "cell_type": "code",
   "execution_count": 35,
   "metadata": {},
   "outputs": [
    {
     "name": "stdout",
     "output_type": "stream",
     "text": [
      "URL for getting the metadata of a specific corpus: https://dracor.org/api/corpora/swe/metadata\n",
      "\n"
     ]
    }
   ],
   "source": [
    "# save corpora parameter (with slash) and metadata parameter in variables\n",
    "CORPORA_EXT = \"corpora/\"\n",
    "METADAT_EXT = \"/metadata\"\n",
    "\n",
    "# build URL\n",
    "corpus_metadata_path = API_URL + CORPORA_EXT + corpusname + METADAT_EXT\n",
    "print(f\"URL for getting the metadata of a specific corpus: {corpus_metadata_path}\\n\")\n",
    "\n",
    "\n",
    "# perform request\n",
    "metadata_file = requests.get(corpus_metadata_path, headers={\"accept\": \"text/csv\"}, stream=True)\n",
    "metadata_file.raw.decode_content=True\n",
    "\n",
    "# read metadata to DataFrame\n",
    "metadata_df = pd.read_csv(metadata_file.raw, sep=\",\", encoding=\"utf-8\")"
   ]
  },
  {
   "cell_type": "markdown",
   "metadata": {},
   "source": [
    "### Inspect metadata"
   ]
  },
  {
   "cell_type": "code",
   "execution_count": 22,
   "metadata": {
    "scrolled": true
   },
   "outputs": [
    {
     "data": {
      "text/html": [
       "<div>\n",
       "<style scoped>\n",
       "    .dataframe tbody tr th:only-of-type {\n",
       "        vertical-align: middle;\n",
       "    }\n",
       "\n",
       "    .dataframe tbody tr th {\n",
       "        vertical-align: top;\n",
       "    }\n",
       "\n",
       "    .dataframe thead th {\n",
       "        text-align: right;\n",
       "    }\n",
       "</style>\n",
       "<table border=\"1\" class=\"dataframe\">\n",
       "  <thead>\n",
       "    <tr style=\"text-align: right;\">\n",
       "      <th></th>\n",
       "      <th>name</th>\n",
       "      <th>id</th>\n",
       "      <th>firstAuthor</th>\n",
       "      <th>numOfCoAuthors</th>\n",
       "      <th>title</th>\n",
       "      <th>subtitle</th>\n",
       "      <th>normalizedGenre</th>\n",
       "      <th>yearNormalized</th>\n",
       "      <th>size</th>\n",
       "      <th>libretto</th>\n",
       "      <th>...</th>\n",
       "      <th>numConnectedComponents</th>\n",
       "      <th>yearWritten</th>\n",
       "      <th>numOfSegments</th>\n",
       "      <th>wikipediaLinkCount</th>\n",
       "      <th>numOfActs</th>\n",
       "      <th>wordCountText</th>\n",
       "      <th>wordCountSp</th>\n",
       "      <th>wordCountStage</th>\n",
       "      <th>numOfP</th>\n",
       "      <th>numOfL</th>\n",
       "    </tr>\n",
       "  </thead>\n",
       "  <tbody>\n",
       "    <tr>\n",
       "      <th>0</th>\n",
       "      <td>agrell-domd</td>\n",
       "      <td>swe000001</td>\n",
       "      <td>Agrell</td>\n",
       "      <td>0</td>\n",
       "      <td>Dömd</td>\n",
       "      <td>Skådespel i tre akter</td>\n",
       "      <td>NaN</td>\n",
       "      <td>1884</td>\n",
       "      <td>15</td>\n",
       "      <td>False</td>\n",
       "      <td>...</td>\n",
       "      <td>1</td>\n",
       "      <td>NaN</td>\n",
       "      <td>43</td>\n",
       "      <td>1</td>\n",
       "      <td>3</td>\n",
       "      <td>22939</td>\n",
       "      <td>22206</td>\n",
       "      <td>2496</td>\n",
       "      <td>1122</td>\n",
       "      <td>0</td>\n",
       "    </tr>\n",
       "    <tr>\n",
       "      <th>1</th>\n",
       "      <td>agrell-en-hufvudsak</td>\n",
       "      <td>swe000002</td>\n",
       "      <td>Agrell</td>\n",
       "      <td>0</td>\n",
       "      <td>En hufvudsak</td>\n",
       "      <td>Komedi i en akt</td>\n",
       "      <td>NaN</td>\n",
       "      <td>1883</td>\n",
       "      <td>4</td>\n",
       "      <td>False</td>\n",
       "      <td>...</td>\n",
       "      <td>1</td>\n",
       "      <td>NaN</td>\n",
       "      <td>7</td>\n",
       "      <td>1</td>\n",
       "      <td>1</td>\n",
       "      <td>7249</td>\n",
       "      <td>7024</td>\n",
       "      <td>570</td>\n",
       "      <td>490</td>\n",
       "      <td>0</td>\n",
       "    </tr>\n",
       "    <tr>\n",
       "      <th>2</th>\n",
       "      <td>agrell-en-lektion</td>\n",
       "      <td>swe000003</td>\n",
       "      <td>Agrell</td>\n",
       "      <td>0</td>\n",
       "      <td>En lektion</td>\n",
       "      <td>Konversation i en akt</td>\n",
       "      <td>NaN</td>\n",
       "      <td>1884</td>\n",
       "      <td>2</td>\n",
       "      <td>False</td>\n",
       "      <td>...</td>\n",
       "      <td>1</td>\n",
       "      <td>NaN</td>\n",
       "      <td>1</td>\n",
       "      <td>1</td>\n",
       "      <td>1</td>\n",
       "      <td>4229</td>\n",
       "      <td>4028</td>\n",
       "      <td>361</td>\n",
       "      <td>221</td>\n",
       "      <td>0</td>\n",
       "    </tr>\n",
       "    <tr>\n",
       "      <th>3</th>\n",
       "      <td>agrell-ensam</td>\n",
       "      <td>swe000004</td>\n",
       "      <td>Agrell</td>\n",
       "      <td>0</td>\n",
       "      <td>Ensam</td>\n",
       "      <td>Skådespel i tre akter</td>\n",
       "      <td>NaN</td>\n",
       "      <td>1886</td>\n",
       "      <td>7</td>\n",
       "      <td>False</td>\n",
       "      <td>...</td>\n",
       "      <td>1</td>\n",
       "      <td>NaN</td>\n",
       "      <td>21</td>\n",
       "      <td>1</td>\n",
       "      <td>3</td>\n",
       "      <td>16674</td>\n",
       "      <td>15558</td>\n",
       "      <td>3308</td>\n",
       "      <td>904</td>\n",
       "      <td>0</td>\n",
       "    </tr>\n",
       "    <tr>\n",
       "      <th>4</th>\n",
       "      <td>agrell-hvarfor</td>\n",
       "      <td>swe000005</td>\n",
       "      <td>Agrell</td>\n",
       "      <td>0</td>\n",
       "      <td>\"Hvarför?\"</td>\n",
       "      <td>Komedie i en akt</td>\n",
       "      <td>NaN</td>\n",
       "      <td>1883</td>\n",
       "      <td>4</td>\n",
       "      <td>False</td>\n",
       "      <td>...</td>\n",
       "      <td>1</td>\n",
       "      <td>NaN</td>\n",
       "      <td>9</td>\n",
       "      <td>1</td>\n",
       "      <td>1</td>\n",
       "      <td>6481</td>\n",
       "      <td>6183</td>\n",
       "      <td>406</td>\n",
       "      <td>369</td>\n",
       "      <td>0</td>\n",
       "    </tr>\n",
       "  </tbody>\n",
       "</table>\n",
       "<p>5 rows × 34 columns</p>\n",
       "</div>"
      ],
      "text/plain": [
       "                  name         id firstAuthor  numOfCoAuthors         title  \\\n",
       "0          agrell-domd  swe000001      Agrell               0          Dömd   \n",
       "1  agrell-en-hufvudsak  swe000002      Agrell               0  En hufvudsak   \n",
       "2    agrell-en-lektion  swe000003      Agrell               0    En lektion   \n",
       "3         agrell-ensam  swe000004      Agrell               0         Ensam   \n",
       "4       agrell-hvarfor  swe000005      Agrell               0    \"Hvarför?\"   \n",
       "\n",
       "                subtitle  normalizedGenre  yearNormalized  size  libretto  \\\n",
       "0  Skådespel i tre akter              NaN            1884    15     False   \n",
       "1        Komedi i en akt              NaN            1883     4     False   \n",
       "2  Konversation i en akt              NaN            1884     2     False   \n",
       "3  Skådespel i tre akter              NaN            1886     7     False   \n",
       "4       Komedie i en akt              NaN            1883     4     False   \n",
       "\n",
       "   ...  numConnectedComponents  yearWritten  numOfSegments wikipediaLinkCount  \\\n",
       "0  ...                       1          NaN             43                  1   \n",
       "1  ...                       1          NaN              7                  1   \n",
       "2  ...                       1          NaN              1                  1   \n",
       "3  ...                       1          NaN             21                  1   \n",
       "4  ...                       1          NaN              9                  1   \n",
       "\n",
       "   numOfActs  wordCountText  wordCountSp  wordCountStage  numOfP  numOfL  \n",
       "0          3          22939        22206            2496    1122       0  \n",
       "1          1           7249         7024             570     490       0  \n",
       "2          1           4229         4028             361     221       0  \n",
       "3          3          16674        15558            3308     904       0  \n",
       "4          1           6481         6183             406     369       0  \n",
       "\n",
       "[5 rows x 34 columns]"
      ]
     },
     "execution_count": 22,
     "metadata": {},
     "output_type": "execute_result"
    }
   ],
   "source": [
    "# print first five lines of the retrieved meta data \n",
    "metadata_df.head()"
   ]
  },
  {
   "cell_type": "markdown",
   "metadata": {},
   "source": [
    "Look at information available in the metadata "
   ]
  },
  {
   "cell_type": "code",
   "execution_count": 23,
   "metadata": {},
   "outputs": [
    {
     "data": {
      "text/plain": [
       "Index(['name', 'id', 'firstAuthor', 'numOfCoAuthors', 'title', 'subtitle',\n",
       "       'normalizedGenre', 'yearNormalized', 'size', 'libretto',\n",
       "       'averageClustering', 'density', 'averagePathLength', 'maxDegreeIds',\n",
       "       'averageDegree', 'diameter', 'yearPremiered', 'yearPrinted',\n",
       "       'maxDegree', 'numOfSpeakers', 'numOfSpeakersFemale',\n",
       "       'numOfSpeakersMale', 'numOfSpeakersUnknown', 'numPersonGroups',\n",
       "       'numConnectedComponents', 'yearWritten', 'numOfSegments',\n",
       "       'wikipediaLinkCount', 'numOfActs', 'wordCountText', 'wordCountSp',\n",
       "       'wordCountStage', 'numOfP', 'numOfL'],\n",
       "      dtype='object')"
      ]
     },
     "execution_count": 23,
     "metadata": {},
     "output_type": "execute_result"
    }
   ],
   "source": [
    "# print column names available in meta data \n",
    "metadata_df.columns"
   ]
  },
  {
   "cell_type": "markdown",
   "metadata": {},
   "source": [
    "### 3. What to do with the metadata - Examples\n",
    " \n",
    "1. Display the number of characters (\"size\") in the plays over time (\"yearNormalized\")\n",
    "\n",
    "2. Display the length of the play (\"wordCountText\") over time (\"yearNormalized\")\n",
    "\n",
    "3. Get the five longest plays\n",
    "    * sort plays by \"wordCountText\"\n",
    "    * show first five\n",
    "    \n",
    "4. Get number of plays published after 1800 and before 1900\n",
    "    * filter: \"yearNormalized\"\n",
    "    * filter-value: 1800 and 1900\n",
    "    * filter-operation: > and <\n",
    "    \n",
    "5. Display development of the length of stage descriptions\n",
    "    * filter: 'wordCountStage'\n",
    "    * calculate percentage of stage directions in relation to wordcount in new column\n",
    "    * plot by time \n",
    "    \n",
    "6. Display the relation of female speakers over time \n",
    "    * filter: 'numOfSpeakers', 'numOfSpeakersFemale'\n",
    "    * calculate percentage of female speakers\n",
    "    * plot by time   "
   ]
  },
  {
   "cell_type": "code",
   "execution_count": 25,
   "metadata": {},
   "outputs": [
    {
     "data": {
      "text/plain": [
       "<AxesSubplot:xlabel='yearNormalized', ylabel='size'>"
      ]
     },
     "execution_count": 25,
     "metadata": {},
     "output_type": "execute_result"
    },
    {
     "data": {
      "image/png": "[encoded data removed]",
      "text/plain": [
       "<Figure size 432x288 with 1 Axes>"
      ]
     },
     "metadata": {
      "needs_background": "light"
     },
     "output_type": "display_data"
    }
   ],
   "source": [
    "# 1. Get number of characters of each play and plot the normalized year\n",
    "metadata_df.plot(x=\"yearNormalized\", y=\"size\", kind=\"scatter\")"
   ]
  },
  {
   "cell_type": "code",
   "execution_count": 26,
   "metadata": {},
   "outputs": [
    {
     "data": {
      "text/plain": [
       "<AxesSubplot:xlabel='yearNormalized', ylabel='wordCountText'>"
      ]
     },
     "execution_count": 26,
     "metadata": {},
     "output_type": "execute_result"
    },
    {
     "data": {
      "image/png": "[encoded data removed]",
      "text/plain": [
       "<Figure size 432x288 with 1 Axes>"
      ]
     },
     "metadata": {
      "needs_background": "light"
     },
     "output_type": "display_data"
    }
   ],
   "source": [
    "# 2. Plot length of play in words by the normalized year\n",
    "metadata_df.plot(x=\"yearNormalized\", y=\"wordCountText\", kind=\"scatter\", )"
   ]
  },
  {
   "cell_type": "code",
   "execution_count": 27,
   "metadata": {},
   "outputs": [
    {
     "data": {
      "text/html": [
       "<div>\n",
       "<style scoped>\n",
       "    .dataframe tbody tr th:only-of-type {\n",
       "        vertical-align: middle;\n",
       "    }\n",
       "\n",
       "    .dataframe tbody tr th {\n",
       "        vertical-align: top;\n",
       "    }\n",
       "\n",
       "    .dataframe thead th {\n",
       "        text-align: right;\n",
       "    }\n",
       "</style>\n",
       "<table border=\"1\" class=\"dataframe\">\n",
       "  <thead>\n",
       "    <tr style=\"text-align: right;\">\n",
       "      <th></th>\n",
       "      <th>name</th>\n",
       "      <th>id</th>\n",
       "      <th>firstAuthor</th>\n",
       "      <th>numOfCoAuthors</th>\n",
       "      <th>title</th>\n",
       "      <th>subtitle</th>\n",
       "      <th>normalizedGenre</th>\n",
       "      <th>yearNormalized</th>\n",
       "      <th>size</th>\n",
       "      <th>libretto</th>\n",
       "      <th>...</th>\n",
       "      <th>numConnectedComponents</th>\n",
       "      <th>yearWritten</th>\n",
       "      <th>numOfSegments</th>\n",
       "      <th>wikipediaLinkCount</th>\n",
       "      <th>numOfActs</th>\n",
       "      <th>wordCountText</th>\n",
       "      <th>wordCountSp</th>\n",
       "      <th>wordCountStage</th>\n",
       "      <th>numOfP</th>\n",
       "      <th>numOfL</th>\n",
       "    </tr>\n",
       "  </thead>\n",
       "  <tbody>\n",
       "    <tr>\n",
       "      <th>54</th>\n",
       "      <td>strindberg-till-damaskus</td>\n",
       "      <td>swe000053</td>\n",
       "      <td>Strindberg</td>\n",
       "      <td>0</td>\n",
       "      <td>Till Damaskus</td>\n",
       "      <td>NaN</td>\n",
       "      <td>NaN</td>\n",
       "      <td>1898</td>\n",
       "      <td>47</td>\n",
       "      <td>False</td>\n",
       "      <td>...</td>\n",
       "      <td>1</td>\n",
       "      <td>NaN</td>\n",
       "      <td>26</td>\n",
       "      <td>5</td>\n",
       "      <td>9</td>\n",
       "      <td>37253</td>\n",
       "      <td>34125</td>\n",
       "      <td>4374</td>\n",
       "      <td>1906</td>\n",
       "      <td>19</td>\n",
       "    </tr>\n",
       "    <tr>\n",
       "      <th>14</th>\n",
       "      <td>hedberg-rospiggarna</td>\n",
       "      <td>swe000015</td>\n",
       "      <td>Hedberg</td>\n",
       "      <td>0</td>\n",
       "      <td>Rospiggarna</td>\n",
       "      <td>Folklustspel med sång i fyra akter</td>\n",
       "      <td>NaN</td>\n",
       "      <td>1884</td>\n",
       "      <td>37</td>\n",
       "      <td>False</td>\n",
       "      <td>...</td>\n",
       "      <td>1</td>\n",
       "      <td>NaN</td>\n",
       "      <td>51</td>\n",
       "      <td>0</td>\n",
       "      <td>4</td>\n",
       "      <td>30399</td>\n",
       "      <td>28436</td>\n",
       "      <td>6288</td>\n",
       "      <td>1736</td>\n",
       "      <td>102</td>\n",
       "    </tr>\n",
       "    <tr>\n",
       "      <th>50</th>\n",
       "      <td>strindberg-master-olof</td>\n",
       "      <td>swe000049</td>\n",
       "      <td>Strindberg</td>\n",
       "      <td>0</td>\n",
       "      <td>Mäster Olof</td>\n",
       "      <td>Skådespel i fem akter</td>\n",
       "      <td>NaN</td>\n",
       "      <td>1881</td>\n",
       "      <td>35</td>\n",
       "      <td>False</td>\n",
       "      <td>...</td>\n",
       "      <td>1</td>\n",
       "      <td>NaN</td>\n",
       "      <td>9</td>\n",
       "      <td>5</td>\n",
       "      <td>5</td>\n",
       "      <td>28441</td>\n",
       "      <td>26257</td>\n",
       "      <td>2998</td>\n",
       "      <td>1609</td>\n",
       "      <td>18</td>\n",
       "    </tr>\n",
       "    <tr>\n",
       "      <th>31</th>\n",
       "      <td>malling-fru-leonora</td>\n",
       "      <td>swe000030</td>\n",
       "      <td>Malling</td>\n",
       "      <td>0</td>\n",
       "      <td>Fru Leonora</td>\n",
       "      <td>Komedi i fyra akter</td>\n",
       "      <td>NaN</td>\n",
       "      <td>1897</td>\n",
       "      <td>10</td>\n",
       "      <td>False</td>\n",
       "      <td>...</td>\n",
       "      <td>1</td>\n",
       "      <td>NaN</td>\n",
       "      <td>36</td>\n",
       "      <td>0</td>\n",
       "      <td>4</td>\n",
       "      <td>25227</td>\n",
       "      <td>23373</td>\n",
       "      <td>4226</td>\n",
       "      <td>890</td>\n",
       "      <td>0</td>\n",
       "    </tr>\n",
       "    <tr>\n",
       "      <th>35</th>\n",
       "      <td>molander-varflod</td>\n",
       "      <td>swe000034</td>\n",
       "      <td>Molander</td>\n",
       "      <td>0</td>\n",
       "      <td>Vårflod</td>\n",
       "      <td>Komedi i fyra akter</td>\n",
       "      <td>NaN</td>\n",
       "      <td>1884</td>\n",
       "      <td>8</td>\n",
       "      <td>False</td>\n",
       "      <td>...</td>\n",
       "      <td>1</td>\n",
       "      <td>NaN</td>\n",
       "      <td>57</td>\n",
       "      <td>0</td>\n",
       "      <td>4</td>\n",
       "      <td>24349</td>\n",
       "      <td>22192</td>\n",
       "      <td>3351</td>\n",
       "      <td>1215</td>\n",
       "      <td>0</td>\n",
       "    </tr>\n",
       "  </tbody>\n",
       "</table>\n",
       "<p>5 rows × 34 columns</p>\n",
       "</div>"
      ],
      "text/plain": [
       "                        name         id firstAuthor  numOfCoAuthors  \\\n",
       "54  strindberg-till-damaskus  swe000053  Strindberg               0   \n",
       "14       hedberg-rospiggarna  swe000015     Hedberg               0   \n",
       "50    strindberg-master-olof  swe000049  Strindberg               0   \n",
       "31       malling-fru-leonora  swe000030     Malling               0   \n",
       "35          molander-varflod  swe000034    Molander               0   \n",
       "\n",
       "            title                            subtitle  normalizedGenre  \\\n",
       "54  Till Damaskus                                 NaN              NaN   \n",
       "14    Rospiggarna  Folklustspel med sång i fyra akter              NaN   \n",
       "50    Mäster Olof               Skådespel i fem akter              NaN   \n",
       "31    Fru Leonora                 Komedi i fyra akter              NaN   \n",
       "35        Vårflod                 Komedi i fyra akter              NaN   \n",
       "\n",
       "    yearNormalized  size  libretto  ...  numConnectedComponents  yearWritten  \\\n",
       "54            1898    47     False  ...                       1          NaN   \n",
       "14            1884    37     False  ...                       1          NaN   \n",
       "50            1881    35     False  ...                       1          NaN   \n",
       "31            1897    10     False  ...                       1          NaN   \n",
       "35            1884     8     False  ...                       1          NaN   \n",
       "\n",
       "    numOfSegments wikipediaLinkCount  numOfActs  wordCountText  wordCountSp  \\\n",
       "54             26                  5          9          37253        34125   \n",
       "14             51                  0          4          30399        28436   \n",
       "50              9                  5          5          28441        26257   \n",
       "31             36                  0          4          25227        23373   \n",
       "35             57                  0          4          24349        22192   \n",
       "\n",
       "    wordCountStage  numOfP  numOfL  \n",
       "54            4374    1906      19  \n",
       "14            6288    1736     102  \n",
       "50            2998    1609      18  \n",
       "31            4226     890       0  \n",
       "35            3351    1215       0  \n",
       "\n",
       "[5 rows x 34 columns]"
      ]
     },
     "execution_count": 27,
     "metadata": {},
     "output_type": "execute_result"
    }
   ],
   "source": [
    "# 3. Sort plays by wordcount, show first 5 entries\n",
    "metadata_by_length = metadata_df.sort_values(by=\"wordCountText\", axis=0, ascending=False)\n",
    "\n",
    "# get the first five entries \n",
    "metadata_by_length[0:5]"
   ]
  },
  {
   "cell_type": "code",
   "execution_count": 28,
   "metadata": {},
   "outputs": [
    {
     "name": "stdout",
     "output_type": "stream",
     "text": [
      "Number of plays in the selected time period: 67\n"
     ]
    }
   ],
   "source": [
    "# 4. Get number of plays between 1800 and 1900 \n",
    "num_of_plays = len(metadata_df[(metadata_df[\"yearNormalized\"] > 1800) & (metadata_df[\"yearNormalized\"] < 1900)])\n",
    "print(f\"Number of plays in the selected time period: {num_of_plays}\")"
   ]
  },
  {
   "cell_type": "code",
   "execution_count": 29,
   "metadata": {},
   "outputs": [
    {
     "data": {
      "text/plain": [
       "<AxesSubplot:xlabel='yearNormalized', ylabel='wordCountStagePercentage'>"
      ]
     },
     "execution_count": 29,
     "metadata": {},
     "output_type": "execute_result"
    },
    {
     "data": {
      "image/png": "[encoded data removed]",
      "text/plain": [
       "<Figure size 432x288 with 1 Axes>"
      ]
     },
     "metadata": {
      "needs_background": "light"
     },
     "output_type": "display_data"
    }
   ],
   "source": [
    "# 5. Calculate percentage of tokens in stage directions in relation to all tokens \n",
    "# save the calculated percentages in a new column\n",
    "stage_percentage = metadata_df[\"wordCountStage\"] / metadata_df[\"wordCountText\"]\n",
    "metadata_df[\"wordCountStagePercentage\"] = stage_percentage\n",
    "metadata_df.plot(x=\"yearNormalized\", y=\"wordCountStagePercentage\", kind=\"scatter\")"
   ]
  },
  {
   "cell_type": "code",
   "execution_count": 30,
   "metadata": {},
   "outputs": [
    {
     "data": {
      "text/plain": [
       "<AxesSubplot:xlabel='yearNormalized', ylabel='numOfSpeakersFemalePercentage'>"
      ]
     },
     "execution_count": 30,
     "metadata": {},
     "output_type": "execute_result"
    },
    {
     "data": {
      "image/png": "[encoded data removed]",
      "text/plain": [
       "<Figure size 432x288 with 1 Axes>"
      ]
     },
     "metadata": {
      "needs_background": "light"
     },
     "output_type": "display_data"
    }
   ],
   "source": [
    "# 6. Display the relation of female speaker over time\n",
    "speakers_total = metadata_df[\"numOfSpeakers\"]\n",
    "metadata_df[\"numOfSpeakersFemalePercentage\"] = metadata_df[\"numOfSpeakersFemale\"] / speakers_total\n",
    "metadata_df.plot(x=\"yearNormalized\", y=\"numOfSpeakersFemalePercentage\", kind=\"scatter\")"
   ]
  },
  {
   "cell_type": "markdown",
   "metadata": {},
   "source": [
    "## 3.  `play/`: Select text\n",
    "The API alos allows us to load single texts or abstract representation such as network data of single texts.\n",
    "For this we need to extend the URL by the parameter `play/`, followed by the name of the play as listed in metadata. This will give us:\n",
    "* metadata of the play\n",
    "* network data to the play\n",
    "* speaker list\n",
    "* division into scenes and the appearing speakers\n",
    "\n",
    "The documentation of this endpoint can be found here: https://dracor.org/doc/api#/public/play-info"
   ]
  },
  {
   "cell_type": "code",
   "execution_count": 32,
   "metadata": {},
   "outputs": [],
   "source": [
    "# save play parameter in variable\n",
    "PLAY_EXT = \"/play/\""
   ]
  },
  {
   "cell_type": "code",
   "execution_count": 33,
   "metadata": {},
   "outputs": [
    {
     "name": "stdout",
     "output_type": "stream",
     "text": [
      "Please choose a text from the corpus you have chosen. Enter the text name: agrell-domd\n",
      "Success!\n"
     ]
    }
   ],
   "source": [
    "# save column name in which the play names are stored in a variable \n",
    "PLAY_KEY = \"name\"\n",
    "while True:\n",
    "    # get play name with user input\n",
    "    # save play name in variable\n",
    "    play_name = str(input(\"Please choose a text from the corpus you have chosen. Enter the text name: \"))\n",
    "    if play_name not in metadata_df[PLAY_KEY].values:\n",
    "        print(\"The name you selected is not in the list. Please enter the name again.\")\n",
    "    else:\n",
    "        print(\"Success!\")\n",
    "        break"
   ]
  },
  {
   "cell_type": "code",
   "execution_count": 36,
   "metadata": {},
   "outputs": [
    {
     "name": "stdout",
     "output_type": "stream",
     "text": [
      "URL for getting information of a specific play: https://dracor.org/api/corpora/swe/play/agrell-domd\n",
      "\n",
      "Cast list\n",
      "['Ivar', 'Valborg Lindén', 'Olof Wide', 'Moster Lisen', 'Hilma', 'Hillner', 'Gertrud', 'Sixten Björnklo', 'Fru Hillner', 'Direktör Hillner', 'Assessor Holm', 'Fröken Bonn', 'Enkefru Hillner', 'Thure Mantell', 'Anna']\n"
     ]
    }
   ],
   "source": [
    "# build URL\n",
    "play_path = API_URL + CORPORA_EXT + corpusname + PLAY_EXT + play_name\n",
    "print(f\"URL for getting information of a specific play: {play_path}\\n\")\n",
    "\n",
    "# perform request\n",
    "play_info = requests.get(play_path).json()\n",
    "\n",
    "# extract cast names\n",
    "cast_names = [entry[\"name\"] for entry in play_info[\"cast\"]]\n",
    "print(\"Cast list\")\n",
    "print(cast_names)"
   ]
  },
  {
   "cell_type": "markdown",
   "metadata": {},
   "source": [
    "### Exercise\n",
    "* How else could we get the cast of the play? Is there a more specific API call if we only want that information?"
   ]
  },
  {
   "cell_type": "code",
   "execution_count": 37,
   "metadata": {},
   "outputs": [
    {
     "name": "stdout",
     "output_type": "stream",
     "text": [
      "https://dracor.org/api/\n",
      "corpora/\n",
      "swe\n",
      "/play/\n",
      "agrell-domd\n",
      "Combined the URL looks like this: https://dracor.org/api/corpora/swe/play/agrell-domd\n"
     ]
    }
   ],
   "source": [
    "# API call for getting a specific play is saved in the variable `play_path`\n",
    "# This is it consists of \n",
    "print(API_URL)\n",
    "print(CORPORA_EXT)\n",
    "print(corpusname)\n",
    "print(PLAY_EXT)\n",
    "print(play_name)\n",
    "print(f\"Combined the URL looks like this: {play_path}\")"
   ]
  },
  {
   "cell_type": "code",
   "execution_count": 40,
   "metadata": {},
   "outputs": [
    {
     "name": "stdout",
     "output_type": "stream",
     "text": [
      "Success! Here is the output:\n",
      "[{'id': 'spIvar', 'name': 'Ivar', 'isGroup': False, 'gender': 'MALE', 'numOfScenes': 8, 'numOfSpeechActs': 30, 'numOfWords': 422, 'degree': 13, 'weightedDegree': 37, 'closeness': 0.9333333333333333, 'betweenness': 0.001998001998001998, 'eigenvector': 0.26397788587859244}, {'id': 'spValborg', 'name': 'Valborg Lindén', 'isGroup': False, 'gender': 'FEMALE', 'numOfScenes': 19, 'numOfSpeechActs': 240, 'numOfWords': 3802, 'degree': 13, 'weightedDegree': 44, 'closeness': 0.9333333333333333, 'betweenness': 0.001998001998001998, 'eigenvector': 0.26397788587859244}, {'id': 'spOlof', 'name': 'Olof Wide', 'isGroup': False, 'gender': 'MALE', 'numOfScenes': 15, 'numOfSpeechActs': 132, 'numOfWords': 2969, 'degree': 13, 'weightedDegree': 51, 'closeness': 0.9333333333333333, 'betweenness': 0.001998001998001998, 'eigenvector': 0.26397788587859244}, {'id': 'spLisen', 'name': 'Moster Lisen', 'isGroup': False, 'gender': 'FEMALE', 'numOfScenes': 12, 'numOfSpeechActs': 117, 'numOfWords': 2038, 'degree': 12, 'weightedDegree': 30, 'closeness': 0.875, 'betweenness': 0.007849293563579277, 'eigenvector': 0.23907271243559156}, {'id': 'spHilma', 'name': 'Hilma', 'isGroup': False, 'gender': 'FEMALE', 'numOfScenes': 24, 'numOfSpeechActs': 201, 'numOfWords': 3710, 'degree': 14, 'weightedDegree': 80, 'closeness': 1, 'betweenness': 0.013510299224584936, 'eigenvector': 0.27431754671682174}, {'id': 'spProfessorn', 'name': 'Hillner', 'isGroup': False, 'gender': 'MALE', 'numOfScenes': 15, 'numOfSpeechActs': 89, 'numOfWords': 1564, 'degree': 13, 'weightedDegree': 56, 'closeness': 0.9333333333333333, 'betweenness': 0.001998001998001998, 'eigenvector': 0.26397788587859244}, {'id': 'spGertrud', 'name': 'Gertrud', 'isGroup': False, 'gender': 'FEMALE', 'numOfScenes': 18, 'numOfSpeechActs': 88, 'numOfWords': 962, 'degree': 13, 'weightedDegree': 61, 'closeness': 0.9333333333333333, 'betweenness': 0.001998001998001998, 'eigenvector': 0.26397788587859244}, {'id': 'spBjörnklo', 'name': 'Sixten Björnklo', 'isGroup': False, 'gender': 'MALE', 'numOfScenes': 17, 'numOfSpeechActs': 167, 'numOfWords': 2733, 'degree': 14, 'weightedDegree': 59, 'closeness': 1, 'betweenness': 0.013510299224584936, 'eigenvector': 0.27431754671682174}, {'id': 'spFruHillner', 'name': 'Fru Hillner', 'isGroup': False, 'gender': 'FEMALE', 'numOfScenes': 4, 'numOfSpeechActs': 13, 'numOfWords': 170, 'degree': 14, 'weightedDegree': 29, 'closeness': 1, 'betweenness': 0.013510299224584936, 'eigenvector': 0.27431754671682174}, {'id': 'spDirektörHillner', 'name': 'Direktör Hillner', 'isGroup': False, 'gender': 'MALE', 'numOfScenes': 3, 'numOfSpeechActs': 9, 'numOfWords': 136, 'degree': 14, 'weightedDegree': 22, 'closeness': 1, 'betweenness': 0.013510299224584936, 'eigenvector': 0.27431754671682174}, {'id': 'spAssessorn', 'name': 'Assessor Holm', 'isGroup': False, 'gender': 'MALE', 'numOfScenes': 2, 'numOfSpeechActs': 9, 'numOfWords': 128, 'degree': 12, 'weightedDegree': 19, 'closeness': 0.875, 'betweenness': 0, 'eigenvector': 0.24691509554638175}, {'id': 'spFrökenBonn', 'name': 'Fröken Bonn', 'isGroup': False, 'gender': 'FEMALE', 'numOfScenes': 2, 'numOfSpeechActs': 5, 'numOfWords': 58, 'degree': 12, 'weightedDegree': 19, 'closeness': 0.875, 'betweenness': 0, 'eigenvector': 0.24691509554638172}, {'id': 'spFarmor', 'name': 'Enkefru Hillner', 'isGroup': False, 'gender': 'FEMALE', 'numOfScenes': 3, 'numOfSpeechActs': 9, 'numOfWords': 180, 'degree': 14, 'weightedDegree': 23, 'closeness': 1, 'betweenness': 0.013510299224584936, 'eigenvector': 0.27431754671682174}, {'id': 'spMantell', 'name': 'Thure Mantell', 'isGroup': False, 'gender': 'MALE', 'numOfScenes': 3, 'numOfSpeechActs': 7, 'numOfWords': 145, 'degree': 14, 'weightedDegree': 23, 'closeness': 1, 'betweenness': 0.013510299224584936, 'eigenvector': 0.27431754671682174}, {'id': 'spAnna', 'name': 'Anna', 'isGroup': False, 'gender': 'FEMALE', 'numOfScenes': 1, 'numOfSpeechActs': 1, 'numOfWords': 4, 'degree': 7, 'weightedDegree': 7, 'closeness': 0.6666666666666666, 'betweenness': 0, 'eigenvector': 0.14487163133706188}]\n"
     ]
    }
   ],
   "source": [
    "# We can add something to the URL like this:\n",
    "# (just replace anything-you-want-to-add with the keyword of your choice)\n",
    "# add your chosen paramater to the path to the play you selected\n",
    "cast_url = play_path + \"/anything-you-want-to-add\"\n",
    "cast_url = play_path + \"/cast\"\n",
    "\n",
    "# perform request\n",
    "cast_info = requests.get(cast_url)\n",
    "if cast_info.status_code != 200:\n",
    "    print(f\"It looks like your URL is not valid. Status code is: {cast_info.status_code}\")\n",
    "else:\n",
    "    print(\"Success! Here is the output:\")\n",
    "    print(cast_info.json())"
   ]
  },
  {
   "cell_type": "markdown",
   "metadata": {},
   "source": [
    "## Specify single play requests\n",
    "We can specify which information of the play we want to retrieve. We do so by extending the URL by an additional parameter. If for example we want to get the spoken text of the characters, we need to extend the URL by `spoken-text-by-character`.\n",
    "\n",
    "The documentation of this endpoint can be found here: https://dracor.org/doc/api#/public/play-spoken-text-by-character\n",
    "\n",
    "You could also choose other information to retrieve e.g. stage directions and speakers, spoken text only (without the attribution to the speaker) and so on. Just have a look at the API documentation and see what parameters can be added after `{playname}`."
   ]
  },
  {
   "cell_type": "code",
   "execution_count": 41,
   "metadata": {},
   "outputs": [],
   "source": [
    "# save parameter to get more specific data to the selected play in a variable \n",
    "PLAY_SPECIFICATION = \"/spoken-text-by-character\""
   ]
  },
  {
   "cell_type": "code",
   "execution_count": 42,
   "metadata": {},
   "outputs": [
    {
     "name": "stdout",
     "output_type": "stream",
     "text": [
      "URL for getting specified information of a play: https://dracor.org/api/corpora/swe/play/agrell-domd/spoken-text-by-character\n",
      "\n"
     ]
    }
   ],
   "source": [
    "# extend play URL \n",
    "play_spec_path = play_path + PLAY_SPECIFICATION\n",
    "print(f\"URL for getting specified information of a play: {play_spec_path}\\n\")\n",
    "\n",
    "# perform request \n",
    "play_spec = requests.get(play_spec_path).json()"
   ]
  },
  {
   "cell_type": "markdown",
   "metadata": {},
   "source": [
    "### Example\n",
    "We can now perform some analyses with the text we retreived. With just some minor preprocessing (tokenization) we can ask:\n",
    "* Who talks most often about love or guns \n",
    "\n",
    "\n",
    "Since the characters are also annotated with gender with can explore simple gender related questions, such as:\n",
    "* Do men talk more often about swords, guns, weapons?\n",
    "* Do women talk more often about love, roses, children?\n",
    "\n",
    "For this we need to import the natural language toolkit `nltk` (https://www.nltk.org/) or any other NLP library, e.g. spacy to tokenize the spoken text. We can then calculate the frequencies by character and sum them up by gender. For counting the selected words, we can use the library `collections` (https://docs.python.org/3/library/collections.html)"
   ]
  },
  {
   "cell_type": "code",
   "execution_count": 43,
   "metadata": {},
   "outputs": [],
   "source": [
    "from nltk.tokenize import word_tokenize\n",
    "from collections import Counter"
   ]
  },
  {
   "cell_type": "markdown",
   "metadata": {},
   "source": [
    "Uncomment the line below, if the import of `nltk` fails. "
   ]
  },
  {
   "cell_type": "code",
   "execution_count": 44,
   "metadata": {},
   "outputs": [],
   "source": [
    " #!pip install nltk"
   ]
  },
  {
   "cell_type": "code",
   "execution_count": 47,
   "metadata": {},
   "outputs": [],
   "source": [
    "# save keyword for a character's text in a variable\n",
    "TEXT_KEY = \"text\"\n",
    "# save new column names in variables\n",
    "ANNO_KEY = \"text annotation\"\n",
    "FRQ_KEY = \"frequencies\"\n",
    "\n",
    "# tokenize and count words\n",
    "# iterate characters\n",
    "for character_entry in play_spec:\n",
    "    # tokenize speech acts\n",
    "    annotation =  [word_tokenize(sen) for sen in character_entry[TEXT_KEY]]\n",
    "    # save tokenized text and word frequencies\n",
    "    character_entry[ANNO_KEY] = [word for sen in annotation for word in sen]\n",
    "    character_entry[FRQ_KEY] = Counter(character_entry[ANNO_KEY])"
   ]
  },
  {
   "cell_type": "markdown",
   "metadata": {},
   "source": [
    "### Create word list\n",
    "Create your list of words below. Each word must be placed inbetween strings (\"word\") and separated with a comma from the next word."
   ]
  },
  {
   "cell_type": "code",
   "execution_count": 48,
   "metadata": {},
   "outputs": [],
   "source": [
    "word_list = [\"Rose\", \"Rosen\", \"Schwert\", \"Waffe\", \"Schuld\", \"Gewehr\", \"Liebe\", \"Kind\", \"Kinder\", \"Kindes\"]"
   ]
  },
  {
   "cell_type": "markdown",
   "metadata": {},
   "source": [
    "### Analyze"
   ]
  },
  {
   "cell_type": "code",
   "execution_count": 254,
   "metadata": {},
   "outputs": [
    {
     "name": "stdout",
     "output_type": "stream",
     "text": [
      "Pamphilius\n",
      "Liebe: 2\n",
      "--------------------------------------------------\n",
      "Cardenio\n",
      "Schuld: 5\n",
      "Gewehr: 1\n",
      "Liebe: 9\n",
      "Kind: 2\n",
      "--------------------------------------------------\n",
      "Diener\n",
      "None of the words found in the speech of this character.\n",
      "--------------------------------------------------\n",
      "Reyen\n",
      "None of the words found in the speech of this character.\n",
      "--------------------------------------------------\n",
      "Celinde\n",
      "Rosen: 1\n",
      "Schuld: 2\n",
      "Liebe: 4\n",
      "--------------------------------------------------\n",
      "Tyche\n",
      "Liebe: 2\n",
      "Kind: 3\n",
      "--------------------------------------------------\n",
      "Sylvia\n",
      "None of the words found in the speech of this character.\n",
      "--------------------------------------------------\n",
      "Olympia\n",
      "Schuld: 2\n",
      "Liebe: 2\n",
      "--------------------------------------------------\n",
      "Vireno\n",
      "Liebe: 1\n",
      "--------------------------------------------------\n",
      "Die Zeit\n",
      "None of the words found in the speech of this character.\n",
      "--------------------------------------------------\n",
      "Der Mensch\n",
      "Rosen: 1\n",
      "--------------------------------------------------\n",
      "Storax\n",
      "None of the words found in the speech of this character.\n",
      "--------------------------------------------------\n",
      "Lysander\n",
      "Schuld: 1\n",
      "--------------------------------------------------\n",
      "Knecht\n",
      "None of the words found in the speech of this character.\n",
      "--------------------------------------------------\n",
      "Dorus\n",
      "None of the words found in the speech of this character.\n",
      "--------------------------------------------------\n",
      "Cleon\n",
      "None of the words found in the speech of this character.\n",
      "--------------------------------------------------\n",
      "Das Gespenst deß Ritters\n",
      "Schuld: 1\n",
      "--------------------------------------------------\n"
     ]
    }
   ],
   "source": [
    "# save character name key in a variable\n",
    "NAME_KEY = \"label\"\n",
    "\n",
    "# get frequencies of the words in the word list by character\n",
    "# iterate characters\n",
    "for character_entry in play_spec:\n",
    "    # get character name\n",
    "    print(character_entry[NAME_KEY])\n",
    "    found = False\n",
    "    # for each word in the word list, look up the frequency in the speech of the current character\n",
    "    for word in word_list:\n",
    "        if word in character_entry[FRQ_KEY]:\n",
    "            print(f\"{word}: {character_entry[FRQ_KEY][word]}\")\n",
    "            found = True\n",
    "    if not found:\n",
    "        print(\"None of the words found in the speech of this character.\")\n",
    "    print(\"-\"*50)"
   ]
  },
  {
   "cell_type": "code",
   "execution_count": 49,
   "metadata": {},
   "outputs": [],
   "source": [
    "# save the gender key for the characters in a variable\n",
    "GENDER_KEY = \"gender\"\n",
    "# create results dictionary\n",
    "# for each word the frequency by gender is saved \n",
    "words_by_gender = {word: {\"MALE\": 0, \"FEMALE\": 0, \"UNKNOWN\":0} for word in word_list}\n",
    "\n",
    "# get frequencies of the words in the word list by character\n",
    "# add frequency to the gender of the character\n",
    "\n",
    "# iterate characters\n",
    "for character_entry in play_spec:\n",
    "    # retrieve gender\n",
    "    gender = character_entry[GENDER_KEY]\n",
    "    # for each word in the word list, look up the frequency in the speech of the current character\n",
    "    # add frequency to the gender of the character\n",
    "    for word in word_list:\n",
    "        if word in character_entry[FRQ_KEY]:\n",
    "            if gender in words_by_gender[word]:\n",
    "                words_by_gender[word][gender] += character_entry[FRQ_KEY][word]\n",
    "# convert results dictionary into a DataFrame\n",
    "gender_df = pd.DataFrame(words_by_gender)"
   ]
  },
  {
   "cell_type": "code",
   "execution_count": 50,
   "metadata": {},
   "outputs": [
    {
     "data": {
      "text/plain": [
       "<AxesSubplot:>"
      ]
     },
     "execution_count": 50,
     "metadata": {},
     "output_type": "execute_result"
    },
    {
     "data": {
      "image/png": "[encoded data removed]",
      "text/plain": [
       "<Figure size 864x720 with 1 Axes>"
      ]
     },
     "metadata": {
      "needs_background": "light"
     },
     "output_type": "display_data"
    }
   ],
   "source": [
    "gender_df.plot(kind=\"bar\", figsize=(12,10))"
   ]
  },
  {
   "cell_type": "markdown",
   "metadata": {},
   "source": [
    "## Generic function to handle the requests and parse the result\n",
    "Requesting data from the API in most cases follows a pattern:\n",
    " * construct the request-url. E.g. use `https://dracor.org/api/` as a base and attach `corpusname`, `playname`, a method, e.g. `cast` and in some cases a reponse-format, e.g. `csv`\n",
    " * use this constructed url in a request do the endpoint\n",
    " * retrieve the data and parse to a format, that can be than used in the program\n",
    " \n",
    "By defining a function, this process can be speed up. Instead of repeating the code, a function can be defined, that takes `corpusname`, `playname` and `method` as arguments. In the example we assume, that the response will be JSON."
   ]
  },
  {
   "cell_type": "markdown",
   "metadata": {},
   "source": [
    "Parsing of JSON is done with the package `json` (https://docs.python.org/3/library/json.html), which needs to be imported:"
   ]
  },
  {
   "cell_type": "code",
   "execution_count": null,
   "metadata": {
    "collapsed": true
   },
   "outputs": [],
   "source": [
    "import json"
   ]
  },
  {
   "cell_type": "markdown",
   "metadata": {},
   "source": [
    "The function accepts parameters as arguments, e.g. `corpusname=\"ger\"`. Following arguments are supported:\n",
    "\n",
    "* `apibase` (default will be `https://dracor.org/api/`)\n",
    "* `corpusname`\n",
    "* `playname`\n",
    "* `method`\n",
    "* `parse_json`: `True`, `False` (default) – will parse the response as `json`\n"
   ]
  },
  {
   "cell_type": "code",
   "execution_count": 32,
   "metadata": {},
   "outputs": [],
   "source": [
    "#corpusname:str -> []\n",
    "def get(**kwargs):\n",
    "    #corpusname=corpusname\n",
    "    #playname=playname\n",
    "    #apibase=\"https://dracor.org/api/\"\n",
    "    #method=method\n",
    "    #parse_json: True\n",
    "    \n",
    "    #could set different apibase, e.g. https://staging.dracor.org/api/ [not recommended, pls use the production server]\n",
    "    if \"apibase\" in kwargs:\n",
    "        if kwargs[\"apibase\"].endswith(\"/\"):\n",
    "            apibase = kwargs[\"apibase\"]\n",
    "        else:\n",
    "            apibase = kwargs[\"apibase\"] + \"/\"\n",
    "    else:\n",
    "        #use default\n",
    "        apibase = \"https://dracor.org/api/\"\n",
    "    if \"corpusname\" in kwargs and \"playname\" in kwargs:\n",
    "        # used for /api/corpora/{corpusname}/play/{playname}/\n",
    "        if \"method\" in kwargs:\n",
    "            request_url = apibase + \"corpora/\" + kwargs[\"corpusname\"] + \"/play/\" + kwargs[\"playname\"] + \"/\" + kwargs[\"method\"]\n",
    "        else:\n",
    "            request_url = apibase + \"corpora/\" + kwargs[\"corpusname\"] + \"/play/\" + kwargs[\"playname\"]\n",
    "    elif \"corpusname\" in kwargs and not \"playname\" in kwargs:\n",
    "        if \"method\" in kwargs:\n",
    "            request_url = apibase + \"corpora/\" + kwargs[\"corpusname\"] + \"/\" + kwargs[\"method\"]\n",
    "        else:\n",
    "            request_url = apibase + \"corpora/\" + kwargs[\"corpusname\"] \n",
    "    elif \"method\" in kwargs and not \"corpusname\" in kwargs and not \"playname\" in kwargs:\n",
    "            request_url = apibase + kwargs[\"method\"]\n",
    "            \n",
    "    else: \n",
    "        #nothing set\n",
    "        request = request_url = apibase + \"info\"\n",
    "    \n",
    "    #send the response\n",
    "    r = requests.get(request_url)\n",
    "    if r.status_code == 200:\n",
    "        #success!\n",
    "        if \"parse_json\" in kwargs:\n",
    "            if kwargs[\"parse_json\"] == True:\n",
    "                json_data = json.loads(r.text)\n",
    "                return json_data\n",
    "            else:\n",
    "                return r.text\n",
    "        else:\n",
    "            return r.text\n",
    "    else:\n",
    "        raise Exception(\"Request was not successful. Server returned status code: \"  + str(r.status_code))\n",
    "       "
   ]
  },
  {
   "cell_type": "markdown",
   "metadata": {},
   "source": [
    "The function can now be called as follows below. The function call requests the Info about the API `/api/info`:"
   ]
  },
  {
   "cell_type": "code",
   "execution_count": 33,
   "metadata": {},
   "outputs": [
    {
     "data": {
      "text/plain": [
       "{'name': 'DraCor API',\n",
       " 'version': '0.85.0',\n",
       " 'status': 'beta',\n",
       " 'existdb': '6.0.1'}"
      ]
     },
     "execution_count": 33,
     "metadata": {},
     "output_type": "execute_result"
    }
   ],
   "source": [
    "get(method=\"info\", parse_json=True)"
   ]
  },
  {
   "cell_type": "markdown",
   "metadata": {},
   "source": [
    "To request the metrics of a single play (`/api/corpora/{corpusname}/play/{playname}/metrics`) use the following function call:"
   ]
  },
  {
   "cell_type": "code",
   "execution_count": 34,
   "metadata": {},
   "outputs": [
    {
     "data": {
      "text/plain": [
       "{'id': 'ger000088',\n",
       " 'name': 'lessing-emilia-galotti',\n",
       " 'corpus': 'ger',\n",
       " 'wikipediaLinkCount': 15,\n",
       " 'nodes': [{'betweenness': 0.012121212121212123,\n",
       "   'degree': 4,\n",
       "   'id': 'orsina',\n",
       "   'closeness': 0.6,\n",
       "   'eigenvector': 0.2619466686163179,\n",
       "   'weightedDegree': 8},\n",
       "  {'betweenness': 0.05505050505050505,\n",
       "   'degree': 6,\n",
       "   'id': 'odoardo',\n",
       "   'closeness': 0.6666666666666666,\n",
       "   'eigenvector': 0.3542503929627512,\n",
       "   'weightedDegree': 15},\n",
       "  {'betweenness': 0,\n",
       "   'degree': 1,\n",
       "   'id': 'der_kammerdiener',\n",
       "   'closeness': 0.4444444444444444,\n",
       "   'eigenvector': 0.05575792046031643,\n",
       "   'weightedDegree': 2},\n",
       "  {'betweenness': 0.055050505050505044,\n",
       "   'degree': 6,\n",
       "   'id': 'emilia',\n",
       "   'closeness': 0.6666666666666666,\n",
       "   'eigenvector': 0.35136470604573183,\n",
       "   'weightedDegree': 13},\n",
       "  {'betweenness': 0.003787878787878788,\n",
       "   'degree': 4,\n",
       "   'id': 'appiani',\n",
       "   'closeness': 0.5217391304347826,\n",
       "   'eigenvector': 0.25295849315698954,\n",
       "   'weightedDegree': 8},\n",
       "  {'betweenness': 0,\n",
       "   'degree': 1,\n",
       "   'id': 'conti',\n",
       "   'closeness': 0.4444444444444444,\n",
       "   'eigenvector': 0.05575792046031643,\n",
       "   'weightedDegree': 2},\n",
       "  {'betweenness': 0.045454545454545456,\n",
       "   'degree': 7,\n",
       "   'id': 'claudia',\n",
       "   'closeness': 0.6,\n",
       "   'eigenvector': 0.38292603187412255,\n",
       "   'weightedDegree': 19},\n",
       "  {'betweenness': 0.026515151515151516,\n",
       "   'degree': 5,\n",
       "   'id': 'pirro',\n",
       "   'closeness': 0.5454545454545454,\n",
       "   'eigenvector': 0.2719436343371554,\n",
       "   'weightedDegree': 7},\n",
       "  {'betweenness': 0,\n",
       "   'degree': 2,\n",
       "   'id': 'angelo',\n",
       "   'closeness': 0.48,\n",
       "   'eigenvector': 0.1253177208861109,\n",
       "   'weightedDegree': 2},\n",
       "  {'betweenness': 0.46717171717171724,\n",
       "   'degree': 8,\n",
       "   'id': 'der_prinz',\n",
       "   'closeness': 0.75,\n",
       "   'eigenvector': 0.3207610631164816,\n",
       "   'weightedDegree': 20},\n",
       "  {'betweenness': 0.24696969696969698,\n",
       "   'degree': 9,\n",
       "   'id': 'marinelli',\n",
       "   'closeness': 0.8,\n",
       "   'eigenvector': 0.44898463593218985,\n",
       "   'weightedDegree': 30},\n",
       "  {'betweenness': 0.012121212121212123,\n",
       "   'degree': 4,\n",
       "   'id': 'battista',\n",
       "   'closeness': 0.6,\n",
       "   'eigenvector': 0.26144507771860326,\n",
       "   'weightedDegree': 7},\n",
       "  {'betweenness': 0,\n",
       "   'degree': 1,\n",
       "   'id': 'camillo_rota',\n",
       "   'closeness': 0.4444444444444444,\n",
       "   'eigenvector': 0.05575792046031643,\n",
       "   'weightedDegree': 1}],\n",
       " 'averageDegree': 4.461538461538462,\n",
       " 'density': 0.3717948717948718,\n",
       " 'averageClustering': 0.5174603174603174,\n",
       " 'maxDegreeIds': ['marinelli'],\n",
       " 'size': 13,\n",
       " 'maxDegree': 9,\n",
       " 'numConnectedComponents': 1,\n",
       " 'diameter': 3,\n",
       " 'averagePathLength': 1.7820512820512822}"
      ]
     },
     "execution_count": 34,
     "metadata": {},
     "output_type": "execute_result"
    }
   ],
   "source": [
    "get(corpusname=\"ger\",playname=\"lessing-emilia-galotti\",method=\"metrics\",parse_json=True)"
   ]
  },
  {
   "cell_type": "markdown",
   "metadata": {},
   "source": [
    "## Example: Gender of Characters\n",
    "\n",
    "In the following example we count characters that are tagged as \"MALE\" and \"FEMALE in a corpus."
   ]
  },
  {
   "cell_type": "code",
   "execution_count": 35,
   "metadata": {},
   "outputs": [
    {
     "name": "stdout",
     "output_type": "stream",
     "text": [
      "anonym-der-deutsche-student: female characters: 3; male characters: 17\n",
      "adolph-am-ersten-mai: female characters: 2; male characters: 5\n",
      "alberti-brot: female characters: 7; male characters: 24\n",
      "alberti-im-suff: female characters: 3; male characters: 10\n",
      "andre-der-comoedienfeind: female characters: 2; male characters: 4\n",
      "angely-prinz-tu-ta-tu: female characters: 1; male characters: 6\n",
      "anzengruber-das-vierte-gebot: female characters: 8; male characters: 23\n",
      "anzengruber-heimgfunden: female characters: 9; male characters: 17\n",
      "anzengruber-der-gwissenswurm: female characters: 5; male characters: 9\n"
     ]
    },
    {
     "ename": "KeyboardInterrupt",
     "evalue": "",
     "output_type": "error",
     "traceback": [
      "\u001b[0;31m---------------------------------------------------------------------------\u001b[0m",
      "\u001b[0;31mTypeError\u001b[0m                                 Traceback (most recent call last)",
      "\u001b[0;32m~/dracor_stats/lib/python3.8/site-packages/urllib3/connectionpool.py\u001b[0m in \u001b[0;36m_make_request\u001b[0;34m(self, conn, method, url, timeout, chunked, **httplib_request_kw)\u001b[0m\n\u001b[1;32m    376\u001b[0m             \u001b[0;32mtry\u001b[0m\u001b[0;34m:\u001b[0m  \u001b[0;31m# Python 2.7, use buffering of HTTP responses\u001b[0m\u001b[0;34m\u001b[0m\u001b[0;34m\u001b[0m\u001b[0m\n\u001b[0;32m--> 377\u001b[0;31m                 \u001b[0mhttplib_response\u001b[0m \u001b[0;34m=\u001b[0m \u001b[0mconn\u001b[0m\u001b[0;34m.\u001b[0m\u001b[0mgetresponse\u001b[0m\u001b[0;34m(\u001b[0m\u001b[0mbuffering\u001b[0m\u001b[0;34m=\u001b[0m\u001b[0;32mTrue\u001b[0m\u001b[0;34m)\u001b[0m\u001b[0;34m\u001b[0m\u001b[0;34m\u001b[0m\u001b[0m\n\u001b[0m\u001b[1;32m    378\u001b[0m             \u001b[0;32mexcept\u001b[0m \u001b[0mTypeError\u001b[0m\u001b[0;34m:\u001b[0m  \u001b[0;31m# Python 3\u001b[0m\u001b[0;34m\u001b[0m\u001b[0;34m\u001b[0m\u001b[0m\n",
      "\u001b[0;31mTypeError\u001b[0m: getresponse() got an unexpected keyword argument 'buffering'",
      "\nDuring handling of the above exception, another exception occurred:\n",
      "\u001b[0;31mKeyboardInterrupt\u001b[0m                         Traceback (most recent call last)",
      "\u001b[0;32m<ipython-input-35-d42b5fe977c6>\u001b[0m in \u001b[0;36m<module>\u001b[0;34m\u001b[0m\n\u001b[1;32m     11\u001b[0m         \u001b[0;32mfor\u001b[0m \u001b[0mplay\u001b[0m \u001b[0;32min\u001b[0m \u001b[0mplays\u001b[0m\u001b[0;34m:\u001b[0m\u001b[0;34m\u001b[0m\u001b[0;34m\u001b[0m\u001b[0m\n\u001b[1;32m     12\u001b[0m             \u001b[0;31m#get the characters of a play by using the api endpoint /api/corpora/{corpusname}/play/{playname}/cast\u001b[0m\u001b[0;34m\u001b[0m\u001b[0;34m\u001b[0m\u001b[0;34m\u001b[0m\u001b[0m\n\u001b[0;32m---> 13\u001b[0;31m             \u001b[0mcast\u001b[0m \u001b[0;34m=\u001b[0m \u001b[0mget\u001b[0m\u001b[0;34m(\u001b[0m\u001b[0mcorpusname\u001b[0m\u001b[0;34m=\u001b[0m\u001b[0mcorpusname\u001b[0m\u001b[0;34m,\u001b[0m\u001b[0mplayname\u001b[0m\u001b[0;34m=\u001b[0m\u001b[0mplay\u001b[0m\u001b[0;34m[\u001b[0m\u001b[0;34m\"name\"\u001b[0m\u001b[0;34m]\u001b[0m\u001b[0;34m,\u001b[0m\u001b[0mmethod\u001b[0m\u001b[0;34m=\u001b[0m\u001b[0;34m\"cast\"\u001b[0m\u001b[0;34m,\u001b[0m\u001b[0mparse_json\u001b[0m\u001b[0;34m=\u001b[0m\u001b[0;32mTrue\u001b[0m\u001b[0;34m)\u001b[0m\u001b[0;34m\u001b[0m\u001b[0;34m\u001b[0m\u001b[0m\n\u001b[0m\u001b[1;32m     14\u001b[0m             \u001b[0;31m#reset the counters for male and female characters\u001b[0m\u001b[0;34m\u001b[0m\u001b[0;34m\u001b[0m\u001b[0;34m\u001b[0m\u001b[0m\n\u001b[1;32m     15\u001b[0m             \u001b[0mcntMale\u001b[0m \u001b[0;34m=\u001b[0m \u001b[0;36m0\u001b[0m\u001b[0;34m\u001b[0m\u001b[0;34m\u001b[0m\u001b[0m\n",
      "\u001b[0;32m<ipython-input-32-69258f5dc40b>\u001b[0m in \u001b[0;36mget\u001b[0;34m(**kwargs)\u001b[0m\n\u001b[1;32m     35\u001b[0m \u001b[0;34m\u001b[0m\u001b[0m\n\u001b[1;32m     36\u001b[0m     \u001b[0;31m#send the response\u001b[0m\u001b[0;34m\u001b[0m\u001b[0;34m\u001b[0m\u001b[0;34m\u001b[0m\u001b[0m\n\u001b[0;32m---> 37\u001b[0;31m     \u001b[0mr\u001b[0m \u001b[0;34m=\u001b[0m \u001b[0mrequests\u001b[0m\u001b[0;34m.\u001b[0m\u001b[0mget\u001b[0m\u001b[0;34m(\u001b[0m\u001b[0mrequest_url\u001b[0m\u001b[0;34m)\u001b[0m\u001b[0;34m\u001b[0m\u001b[0;34m\u001b[0m\u001b[0m\n\u001b[0m\u001b[1;32m     38\u001b[0m     \u001b[0;32mif\u001b[0m \u001b[0mr\u001b[0m\u001b[0;34m.\u001b[0m\u001b[0mstatus_code\u001b[0m \u001b[0;34m==\u001b[0m \u001b[0;36m200\u001b[0m\u001b[0;34m:\u001b[0m\u001b[0;34m\u001b[0m\u001b[0;34m\u001b[0m\u001b[0m\n\u001b[1;32m     39\u001b[0m         \u001b[0;31m#success!\u001b[0m\u001b[0;34m\u001b[0m\u001b[0;34m\u001b[0m\u001b[0;34m\u001b[0m\u001b[0m\n",
      "\u001b[0;32m~/dracor_stats/lib/python3.8/site-packages/requests/api.py\u001b[0m in \u001b[0;36mget\u001b[0;34m(url, params, **kwargs)\u001b[0m\n\u001b[1;32m     74\u001b[0m \u001b[0;34m\u001b[0m\u001b[0m\n\u001b[1;32m     75\u001b[0m     \u001b[0mkwargs\u001b[0m\u001b[0;34m.\u001b[0m\u001b[0msetdefault\u001b[0m\u001b[0;34m(\u001b[0m\u001b[0;34m'allow_redirects'\u001b[0m\u001b[0;34m,\u001b[0m \u001b[0;32mTrue\u001b[0m\u001b[0;34m)\u001b[0m\u001b[0;34m\u001b[0m\u001b[0;34m\u001b[0m\u001b[0m\n\u001b[0;32m---> 76\u001b[0;31m     \u001b[0;32mreturn\u001b[0m \u001b[0mrequest\u001b[0m\u001b[0;34m(\u001b[0m\u001b[0;34m'get'\u001b[0m\u001b[0;34m,\u001b[0m \u001b[0murl\u001b[0m\u001b[0;34m,\u001b[0m \u001b[0mparams\u001b[0m\u001b[0;34m=\u001b[0m\u001b[0mparams\u001b[0m\u001b[0;34m,\u001b[0m \u001b[0;34m**\u001b[0m\u001b[0mkwargs\u001b[0m\u001b[0;34m)\u001b[0m\u001b[0;34m\u001b[0m\u001b[0;34m\u001b[0m\u001b[0m\n\u001b[0m\u001b[1;32m     77\u001b[0m \u001b[0;34m\u001b[0m\u001b[0m\n\u001b[1;32m     78\u001b[0m \u001b[0;34m\u001b[0m\u001b[0m\n",
      "\u001b[0;32m~/dracor_stats/lib/python3.8/site-packages/requests/api.py\u001b[0m in \u001b[0;36mrequest\u001b[0;34m(method, url, **kwargs)\u001b[0m\n\u001b[1;32m     59\u001b[0m     \u001b[0;31m# cases, and look like a memory leak in others.\u001b[0m\u001b[0;34m\u001b[0m\u001b[0;34m\u001b[0m\u001b[0;34m\u001b[0m\u001b[0m\n\u001b[1;32m     60\u001b[0m     \u001b[0;32mwith\u001b[0m \u001b[0msessions\u001b[0m\u001b[0;34m.\u001b[0m\u001b[0mSession\u001b[0m\u001b[0;34m(\u001b[0m\u001b[0;34m)\u001b[0m \u001b[0;32mas\u001b[0m \u001b[0msession\u001b[0m\u001b[0;34m:\u001b[0m\u001b[0;34m\u001b[0m\u001b[0;34m\u001b[0m\u001b[0m\n\u001b[0;32m---> 61\u001b[0;31m         \u001b[0;32mreturn\u001b[0m \u001b[0msession\u001b[0m\u001b[0;34m.\u001b[0m\u001b[0mrequest\u001b[0m\u001b[0;34m(\u001b[0m\u001b[0mmethod\u001b[0m\u001b[0;34m=\u001b[0m\u001b[0mmethod\u001b[0m\u001b[0;34m,\u001b[0m \u001b[0murl\u001b[0m\u001b[0;34m=\u001b[0m\u001b[0murl\u001b[0m\u001b[0;34m,\u001b[0m \u001b[0;34m**\u001b[0m\u001b[0mkwargs\u001b[0m\u001b[0;34m)\u001b[0m\u001b[0;34m\u001b[0m\u001b[0;34m\u001b[0m\u001b[0m\n\u001b[0m\u001b[1;32m     62\u001b[0m \u001b[0;34m\u001b[0m\u001b[0m\n\u001b[1;32m     63\u001b[0m \u001b[0;34m\u001b[0m\u001b[0m\n",
      "\u001b[0;32m~/dracor_stats/lib/python3.8/site-packages/requests/sessions.py\u001b[0m in \u001b[0;36mrequest\u001b[0;34m(self, method, url, params, data, headers, cookies, files, auth, timeout, allow_redirects, proxies, hooks, stream, verify, cert, json)\u001b[0m\n\u001b[1;32m    540\u001b[0m         }\n\u001b[1;32m    541\u001b[0m         \u001b[0msend_kwargs\u001b[0m\u001b[0;34m.\u001b[0m\u001b[0mupdate\u001b[0m\u001b[0;34m(\u001b[0m\u001b[0msettings\u001b[0m\u001b[0;34m)\u001b[0m\u001b[0;34m\u001b[0m\u001b[0;34m\u001b[0m\u001b[0m\n\u001b[0;32m--> 542\u001b[0;31m         \u001b[0mresp\u001b[0m \u001b[0;34m=\u001b[0m \u001b[0mself\u001b[0m\u001b[0;34m.\u001b[0m\u001b[0msend\u001b[0m\u001b[0;34m(\u001b[0m\u001b[0mprep\u001b[0m\u001b[0;34m,\u001b[0m \u001b[0;34m**\u001b[0m\u001b[0msend_kwargs\u001b[0m\u001b[0;34m)\u001b[0m\u001b[0;34m\u001b[0m\u001b[0;34m\u001b[0m\u001b[0m\n\u001b[0m\u001b[1;32m    543\u001b[0m \u001b[0;34m\u001b[0m\u001b[0m\n\u001b[1;32m    544\u001b[0m         \u001b[0;32mreturn\u001b[0m \u001b[0mresp\u001b[0m\u001b[0;34m\u001b[0m\u001b[0;34m\u001b[0m\u001b[0m\n",
      "\u001b[0;32m~/dracor_stats/lib/python3.8/site-packages/requests/sessions.py\u001b[0m in \u001b[0;36msend\u001b[0;34m(self, request, **kwargs)\u001b[0m\n\u001b[1;32m    653\u001b[0m \u001b[0;34m\u001b[0m\u001b[0m\n\u001b[1;32m    654\u001b[0m         \u001b[0;31m# Send the request\u001b[0m\u001b[0;34m\u001b[0m\u001b[0;34m\u001b[0m\u001b[0;34m\u001b[0m\u001b[0m\n\u001b[0;32m--> 655\u001b[0;31m         \u001b[0mr\u001b[0m \u001b[0;34m=\u001b[0m \u001b[0madapter\u001b[0m\u001b[0;34m.\u001b[0m\u001b[0msend\u001b[0m\u001b[0;34m(\u001b[0m\u001b[0mrequest\u001b[0m\u001b[0;34m,\u001b[0m \u001b[0;34m**\u001b[0m\u001b[0mkwargs\u001b[0m\u001b[0;34m)\u001b[0m\u001b[0;34m\u001b[0m\u001b[0;34m\u001b[0m\u001b[0m\n\u001b[0m\u001b[1;32m    656\u001b[0m \u001b[0;34m\u001b[0m\u001b[0m\n\u001b[1;32m    657\u001b[0m         \u001b[0;31m# Total elapsed time of the request (approximately)\u001b[0m\u001b[0;34m\u001b[0m\u001b[0;34m\u001b[0m\u001b[0;34m\u001b[0m\u001b[0m\n",
      "\u001b[0;32m~/dracor_stats/lib/python3.8/site-packages/requests/adapters.py\u001b[0m in \u001b[0;36msend\u001b[0;34m(self, request, stream, timeout, verify, cert, proxies)\u001b[0m\n\u001b[1;32m    437\u001b[0m         \u001b[0;32mtry\u001b[0m\u001b[0;34m:\u001b[0m\u001b[0;34m\u001b[0m\u001b[0;34m\u001b[0m\u001b[0m\n\u001b[1;32m    438\u001b[0m             \u001b[0;32mif\u001b[0m \u001b[0;32mnot\u001b[0m \u001b[0mchunked\u001b[0m\u001b[0;34m:\u001b[0m\u001b[0;34m\u001b[0m\u001b[0;34m\u001b[0m\u001b[0m\n\u001b[0;32m--> 439\u001b[0;31m                 resp = conn.urlopen(\n\u001b[0m\u001b[1;32m    440\u001b[0m                     \u001b[0mmethod\u001b[0m\u001b[0;34m=\u001b[0m\u001b[0mrequest\u001b[0m\u001b[0;34m.\u001b[0m\u001b[0mmethod\u001b[0m\u001b[0;34m,\u001b[0m\u001b[0;34m\u001b[0m\u001b[0;34m\u001b[0m\u001b[0m\n\u001b[1;32m    441\u001b[0m                     \u001b[0murl\u001b[0m\u001b[0;34m=\u001b[0m\u001b[0murl\u001b[0m\u001b[0;34m,\u001b[0m\u001b[0;34m\u001b[0m\u001b[0;34m\u001b[0m\u001b[0m\n",
      "\u001b[0;32m~/dracor_stats/lib/python3.8/site-packages/urllib3/connectionpool.py\u001b[0m in \u001b[0;36murlopen\u001b[0;34m(self, method, url, body, headers, retries, redirect, assert_same_host, timeout, pool_timeout, release_conn, chunked, body_pos, **response_kw)\u001b[0m\n\u001b[1;32m    595\u001b[0m \u001b[0;34m\u001b[0m\u001b[0m\n\u001b[1;32m    596\u001b[0m             \u001b[0;31m# Make the request on the httplib connection object.\u001b[0m\u001b[0;34m\u001b[0m\u001b[0;34m\u001b[0m\u001b[0;34m\u001b[0m\u001b[0m\n\u001b[0;32m--> 597\u001b[0;31m             httplib_response = self._make_request(conn, method, url,\n\u001b[0m\u001b[1;32m    598\u001b[0m                                                   \u001b[0mtimeout\u001b[0m\u001b[0;34m=\u001b[0m\u001b[0mtimeout_obj\u001b[0m\u001b[0;34m,\u001b[0m\u001b[0;34m\u001b[0m\u001b[0;34m\u001b[0m\u001b[0m\n\u001b[1;32m    599\u001b[0m                                                   \u001b[0mbody\u001b[0m\u001b[0;34m=\u001b[0m\u001b[0mbody\u001b[0m\u001b[0;34m,\u001b[0m \u001b[0mheaders\u001b[0m\u001b[0;34m=\u001b[0m\u001b[0mheaders\u001b[0m\u001b[0;34m,\u001b[0m\u001b[0;34m\u001b[0m\u001b[0;34m\u001b[0m\u001b[0m\n",
      "\u001b[0;32m~/dracor_stats/lib/python3.8/site-packages/urllib3/connectionpool.py\u001b[0m in \u001b[0;36m_make_request\u001b[0;34m(self, conn, method, url, timeout, chunked, **httplib_request_kw)\u001b[0m\n\u001b[1;32m    378\u001b[0m             \u001b[0;32mexcept\u001b[0m \u001b[0mTypeError\u001b[0m\u001b[0;34m:\u001b[0m  \u001b[0;31m# Python 3\u001b[0m\u001b[0;34m\u001b[0m\u001b[0;34m\u001b[0m\u001b[0m\n\u001b[1;32m    379\u001b[0m                 \u001b[0;32mtry\u001b[0m\u001b[0;34m:\u001b[0m\u001b[0;34m\u001b[0m\u001b[0;34m\u001b[0m\u001b[0m\n\u001b[0;32m--> 380\u001b[0;31m                     \u001b[0mhttplib_response\u001b[0m \u001b[0;34m=\u001b[0m \u001b[0mconn\u001b[0m\u001b[0;34m.\u001b[0m\u001b[0mgetresponse\u001b[0m\u001b[0;34m(\u001b[0m\u001b[0;34m)\u001b[0m\u001b[0;34m\u001b[0m\u001b[0;34m\u001b[0m\u001b[0m\n\u001b[0m\u001b[1;32m    381\u001b[0m                 \u001b[0;32mexcept\u001b[0m \u001b[0mException\u001b[0m \u001b[0;32mas\u001b[0m \u001b[0me\u001b[0m\u001b[0;34m:\u001b[0m\u001b[0;34m\u001b[0m\u001b[0;34m\u001b[0m\u001b[0m\n\u001b[1;32m    382\u001b[0m                     \u001b[0;31m# Remove the TypeError from the exception chain in Python 3;\u001b[0m\u001b[0;34m\u001b[0m\u001b[0;34m\u001b[0m\u001b[0;34m\u001b[0m\u001b[0m\n",
      "\u001b[0;32m/Library/Developer/CommandLineTools/Library/Frameworks/Python3.framework/Versions/3.8/lib/python3.8/http/client.py\u001b[0m in \u001b[0;36mgetresponse\u001b[0;34m(self)\u001b[0m\n\u001b[1;32m   1335\u001b[0m         \u001b[0;32mtry\u001b[0m\u001b[0;34m:\u001b[0m\u001b[0;34m\u001b[0m\u001b[0;34m\u001b[0m\u001b[0m\n\u001b[1;32m   1336\u001b[0m             \u001b[0;32mtry\u001b[0m\u001b[0;34m:\u001b[0m\u001b[0;34m\u001b[0m\u001b[0;34m\u001b[0m\u001b[0m\n\u001b[0;32m-> 1337\u001b[0;31m                 \u001b[0mresponse\u001b[0m\u001b[0;34m.\u001b[0m\u001b[0mbegin\u001b[0m\u001b[0;34m(\u001b[0m\u001b[0;34m)\u001b[0m\u001b[0;34m\u001b[0m\u001b[0;34m\u001b[0m\u001b[0m\n\u001b[0m\u001b[1;32m   1338\u001b[0m             \u001b[0;32mexcept\u001b[0m \u001b[0mConnectionError\u001b[0m\u001b[0;34m:\u001b[0m\u001b[0;34m\u001b[0m\u001b[0;34m\u001b[0m\u001b[0m\n\u001b[1;32m   1339\u001b[0m                 \u001b[0mself\u001b[0m\u001b[0;34m.\u001b[0m\u001b[0mclose\u001b[0m\u001b[0;34m(\u001b[0m\u001b[0;34m)\u001b[0m\u001b[0;34m\u001b[0m\u001b[0;34m\u001b[0m\u001b[0m\n",
      "\u001b[0;32m/Library/Developer/CommandLineTools/Library/Frameworks/Python3.framework/Versions/3.8/lib/python3.8/http/client.py\u001b[0m in \u001b[0;36mbegin\u001b[0;34m(self)\u001b[0m\n\u001b[1;32m    305\u001b[0m         \u001b[0;31m# read until we get a non-100 response\u001b[0m\u001b[0;34m\u001b[0m\u001b[0;34m\u001b[0m\u001b[0;34m\u001b[0m\u001b[0m\n\u001b[1;32m    306\u001b[0m         \u001b[0;32mwhile\u001b[0m \u001b[0;32mTrue\u001b[0m\u001b[0;34m:\u001b[0m\u001b[0;34m\u001b[0m\u001b[0;34m\u001b[0m\u001b[0m\n\u001b[0;32m--> 307\u001b[0;31m             \u001b[0mversion\u001b[0m\u001b[0;34m,\u001b[0m \u001b[0mstatus\u001b[0m\u001b[0;34m,\u001b[0m \u001b[0mreason\u001b[0m \u001b[0;34m=\u001b[0m \u001b[0mself\u001b[0m\u001b[0;34m.\u001b[0m\u001b[0m_read_status\u001b[0m\u001b[0;34m(\u001b[0m\u001b[0;34m)\u001b[0m\u001b[0;34m\u001b[0m\u001b[0;34m\u001b[0m\u001b[0m\n\u001b[0m\u001b[1;32m    308\u001b[0m             \u001b[0;32mif\u001b[0m \u001b[0mstatus\u001b[0m \u001b[0;34m!=\u001b[0m \u001b[0mCONTINUE\u001b[0m\u001b[0;34m:\u001b[0m\u001b[0;34m\u001b[0m\u001b[0;34m\u001b[0m\u001b[0m\n\u001b[1;32m    309\u001b[0m                 \u001b[0;32mbreak\u001b[0m\u001b[0;34m\u001b[0m\u001b[0;34m\u001b[0m\u001b[0m\n",
      "\u001b[0;32m/Library/Developer/CommandLineTools/Library/Frameworks/Python3.framework/Versions/3.8/lib/python3.8/http/client.py\u001b[0m in \u001b[0;36m_read_status\u001b[0;34m(self)\u001b[0m\n\u001b[1;32m    266\u001b[0m \u001b[0;34m\u001b[0m\u001b[0m\n\u001b[1;32m    267\u001b[0m     \u001b[0;32mdef\u001b[0m \u001b[0m_read_status\u001b[0m\u001b[0;34m(\u001b[0m\u001b[0mself\u001b[0m\u001b[0;34m)\u001b[0m\u001b[0;34m:\u001b[0m\u001b[0;34m\u001b[0m\u001b[0;34m\u001b[0m\u001b[0m\n\u001b[0;32m--> 268\u001b[0;31m         \u001b[0mline\u001b[0m \u001b[0;34m=\u001b[0m \u001b[0mstr\u001b[0m\u001b[0;34m(\u001b[0m\u001b[0mself\u001b[0m\u001b[0;34m.\u001b[0m\u001b[0mfp\u001b[0m\u001b[0;34m.\u001b[0m\u001b[0mreadline\u001b[0m\u001b[0;34m(\u001b[0m\u001b[0m_MAXLINE\u001b[0m \u001b[0;34m+\u001b[0m \u001b[0;36m1\u001b[0m\u001b[0;34m)\u001b[0m\u001b[0;34m,\u001b[0m \u001b[0;34m\"iso-8859-1\"\u001b[0m\u001b[0;34m)\u001b[0m\u001b[0;34m\u001b[0m\u001b[0;34m\u001b[0m\u001b[0m\n\u001b[0m\u001b[1;32m    269\u001b[0m         \u001b[0;32mif\u001b[0m \u001b[0mlen\u001b[0m\u001b[0;34m(\u001b[0m\u001b[0mline\u001b[0m\u001b[0;34m)\u001b[0m \u001b[0;34m>\u001b[0m \u001b[0m_MAXLINE\u001b[0m\u001b[0;34m:\u001b[0m\u001b[0;34m\u001b[0m\u001b[0;34m\u001b[0m\u001b[0m\n\u001b[1;32m    270\u001b[0m             \u001b[0;32mraise\u001b[0m \u001b[0mLineTooLong\u001b[0m\u001b[0;34m(\u001b[0m\u001b[0;34m\"status line\"\u001b[0m\u001b[0;34m)\u001b[0m\u001b[0;34m\u001b[0m\u001b[0;34m\u001b[0m\u001b[0m\n",
      "\u001b[0;32m/Library/Developer/CommandLineTools/Library/Frameworks/Python3.framework/Versions/3.8/lib/python3.8/socket.py\u001b[0m in \u001b[0;36mreadinto\u001b[0;34m(self, b)\u001b[0m\n\u001b[1;32m    667\u001b[0m         \u001b[0;32mwhile\u001b[0m \u001b[0;32mTrue\u001b[0m\u001b[0;34m:\u001b[0m\u001b[0;34m\u001b[0m\u001b[0;34m\u001b[0m\u001b[0m\n\u001b[1;32m    668\u001b[0m             \u001b[0;32mtry\u001b[0m\u001b[0;34m:\u001b[0m\u001b[0;34m\u001b[0m\u001b[0;34m\u001b[0m\u001b[0m\n\u001b[0;32m--> 669\u001b[0;31m                 \u001b[0;32mreturn\u001b[0m \u001b[0mself\u001b[0m\u001b[0;34m.\u001b[0m\u001b[0m_sock\u001b[0m\u001b[0;34m.\u001b[0m\u001b[0mrecv_into\u001b[0m\u001b[0;34m(\u001b[0m\u001b[0mb\u001b[0m\u001b[0;34m)\u001b[0m\u001b[0;34m\u001b[0m\u001b[0;34m\u001b[0m\u001b[0m\n\u001b[0m\u001b[1;32m    670\u001b[0m             \u001b[0;32mexcept\u001b[0m \u001b[0mtimeout\u001b[0m\u001b[0;34m:\u001b[0m\u001b[0;34m\u001b[0m\u001b[0;34m\u001b[0m\u001b[0m\n\u001b[1;32m    671\u001b[0m                 \u001b[0mself\u001b[0m\u001b[0;34m.\u001b[0m\u001b[0m_timeout_occurred\u001b[0m \u001b[0;34m=\u001b[0m \u001b[0;32mTrue\u001b[0m\u001b[0;34m\u001b[0m\u001b[0;34m\u001b[0m\u001b[0m\n",
      "\u001b[0;32m/Library/Developer/CommandLineTools/Library/Frameworks/Python3.framework/Versions/3.8/lib/python3.8/ssl.py\u001b[0m in \u001b[0;36mrecv_into\u001b[0;34m(self, buffer, nbytes, flags)\u001b[0m\n\u001b[1;32m   1239\u001b[0m                   \u001b[0;34m\"non-zero flags not allowed in calls to recv_into() on %s\"\u001b[0m \u001b[0;34m%\u001b[0m\u001b[0;34m\u001b[0m\u001b[0;34m\u001b[0m\u001b[0m\n\u001b[1;32m   1240\u001b[0m                   self.__class__)\n\u001b[0;32m-> 1241\u001b[0;31m             \u001b[0;32mreturn\u001b[0m \u001b[0mself\u001b[0m\u001b[0;34m.\u001b[0m\u001b[0mread\u001b[0m\u001b[0;34m(\u001b[0m\u001b[0mnbytes\u001b[0m\u001b[0;34m,\u001b[0m \u001b[0mbuffer\u001b[0m\u001b[0;34m)\u001b[0m\u001b[0;34m\u001b[0m\u001b[0;34m\u001b[0m\u001b[0m\n\u001b[0m\u001b[1;32m   1242\u001b[0m         \u001b[0;32melse\u001b[0m\u001b[0;34m:\u001b[0m\u001b[0;34m\u001b[0m\u001b[0;34m\u001b[0m\u001b[0m\n\u001b[1;32m   1243\u001b[0m             \u001b[0;32mreturn\u001b[0m \u001b[0msuper\u001b[0m\u001b[0;34m(\u001b[0m\u001b[0;34m)\u001b[0m\u001b[0;34m.\u001b[0m\u001b[0mrecv_into\u001b[0m\u001b[0;34m(\u001b[0m\u001b[0mbuffer\u001b[0m\u001b[0;34m,\u001b[0m \u001b[0mnbytes\u001b[0m\u001b[0;34m,\u001b[0m \u001b[0mflags\u001b[0m\u001b[0;34m)\u001b[0m\u001b[0;34m\u001b[0m\u001b[0;34m\u001b[0m\u001b[0m\n",
      "\u001b[0;32m/Library/Developer/CommandLineTools/Library/Frameworks/Python3.framework/Versions/3.8/lib/python3.8/ssl.py\u001b[0m in \u001b[0;36mread\u001b[0;34m(self, len, buffer)\u001b[0m\n\u001b[1;32m   1097\u001b[0m         \u001b[0;32mtry\u001b[0m\u001b[0;34m:\u001b[0m\u001b[0;34m\u001b[0m\u001b[0;34m\u001b[0m\u001b[0m\n\u001b[1;32m   1098\u001b[0m             \u001b[0;32mif\u001b[0m \u001b[0mbuffer\u001b[0m \u001b[0;32mis\u001b[0m \u001b[0;32mnot\u001b[0m \u001b[0;32mNone\u001b[0m\u001b[0;34m:\u001b[0m\u001b[0;34m\u001b[0m\u001b[0;34m\u001b[0m\u001b[0m\n\u001b[0;32m-> 1099\u001b[0;31m                 \u001b[0;32mreturn\u001b[0m \u001b[0mself\u001b[0m\u001b[0;34m.\u001b[0m\u001b[0m_sslobj\u001b[0m\u001b[0;34m.\u001b[0m\u001b[0mread\u001b[0m\u001b[0;34m(\u001b[0m\u001b[0mlen\u001b[0m\u001b[0;34m,\u001b[0m \u001b[0mbuffer\u001b[0m\u001b[0;34m)\u001b[0m\u001b[0;34m\u001b[0m\u001b[0;34m\u001b[0m\u001b[0m\n\u001b[0m\u001b[1;32m   1100\u001b[0m             \u001b[0;32melse\u001b[0m\u001b[0;34m:\u001b[0m\u001b[0;34m\u001b[0m\u001b[0;34m\u001b[0m\u001b[0m\n\u001b[1;32m   1101\u001b[0m                 \u001b[0;32mreturn\u001b[0m \u001b[0mself\u001b[0m\u001b[0;34m.\u001b[0m\u001b[0m_sslobj\u001b[0m\u001b[0;34m.\u001b[0m\u001b[0mread\u001b[0m\u001b[0;34m(\u001b[0m\u001b[0mlen\u001b[0m\u001b[0;34m)\u001b[0m\u001b[0;34m\u001b[0m\u001b[0;34m\u001b[0m\u001b[0m\n",
      "\u001b[0;31mKeyboardInterrupt\u001b[0m: "
     ]
    }
   ],
   "source": [
    "#Get all plays in a Corpus\n",
    "if corpusname != \"\":\n",
    "    #get data of a single corpus and store only the list of dramas in the variable \"plays\"\n",
    "    plays = get(corpusname=corpusname,parse_json=True)[\"dramas\"]\n",
    "    #set counters for male an female characters in the corpus\n",
    "    overallMale = 0\n",
    "    overallFemale = 0\n",
    "    #check, if a corpusname was entered\n",
    "    if corpusname != \"\":\n",
    "        #iterate over the plays\n",
    "        for play in plays:\n",
    "            #get the characters of a play by using the api endpoint /api/corpora/{corpusname}/play/{playname}/cast\n",
    "            cast = get(corpusname=corpusname,playname=play[\"name\"],method=\"cast\",parse_json=True)\n",
    "            #reset the counters for male and female characters\n",
    "            cntMale = 0\n",
    "            cntFemale = 0\n",
    "            #iterate over the cast and increment the counters\n",
    "            for character in cast:\n",
    "                gender = character[\"gender\"]\n",
    "                if gender == \"MALE\":\n",
    "                    cntMale = cntMale + 1\n",
    "                elif gender == \"FEMALE\":\n",
    "                    cntFemale = cntFemale + 1\n",
    "            # report the result per play\n",
    "            print(play[\"name\"] + \": \" + \"female characters: \" + str(cntFemale) + \"; male characters: \" + str(cntMale))\n",
    "        \n",
    "            # increment the overall counters\n",
    "            overallMale = overallMale + cntMale\n",
    "            overallFemale = overallFemale + cntFemale\n",
    "    # report the results on corpus level\n",
    "    print(\"\\n\\nThere are \" + str(overallFemale) + \" female and \" + str(overallMale) + \" male characters in the corpus '\" + corpusname + \"'\")\n",
    "    \n",
    "else:\n",
    "    raise Exception(\"Please enter a corpus!\")\n"
   ]
  },
  {
   "cell_type": "code",
   "execution_count": null,
   "metadata": {},
   "outputs": [],
   "source": []
  }
 ],
 "metadata": {
  "kernelspec": {
   "display_name": "Python 3",
   "language": "python",
   "name": "python3"
  },
  "language_info": {
   "codemirror_mode": {
    "name": "ipython",
    "version": 3
   },
   "file_extension": ".py",
   "mimetype": "text/x-python",
   "name": "python",
   "nbconvert_exporter": "python",
   "pygments_lexer": "ipython3",
   "version": "3.8.2"
  }
 },
 "nbformat": 4,
 "nbformat_minor": 2
}
