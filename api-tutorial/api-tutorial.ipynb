{
 "cells": [
  {
   "cell_type": "markdown",
   "metadata": {},
   "source": [
    "# DraCor API Tutorial"
   ]
  },
  {
   "cell_type": "markdown",
   "metadata": {},
   "source": [
    "To use the [DraCor-API](https://dracor.org/doc/api) you need to send HTTP-Requests to the API: `https://dracor.org/api`. In Python HTTP-Request can be sent with the library [requests](https://2.python-requests.org). We have to import this library:"
   ]
  },
  {
   "cell_type": "code",
   "execution_count": 1,
   "metadata": {},
   "outputs": [],
   "source": [
    "import requests"
   ]
  },
  {
   "cell_type": "markdown",
   "metadata": {},
   "source": [
    "If it fails, the package must be installed first. Run `pip install `"
   ]
  },
  {
   "cell_type": "markdown",
   "metadata": {},
   "source": [
    "## `/info`: Info about the API "
   ]
  },
  {
   "cell_type": "code",
   "execution_count": 2,
   "metadata": {},
   "outputs": [
    {
     "data": {
      "text/plain": [
       "'{\\n  \"name\" : \"DraCor API\",\\n  \"status\" : \"beta\",\\n  \"existdb\" : \"5.2.0\",\\n  \"version\" : \"0.82.0\"\\n}'"
      ]
     },
     "execution_count": 2,
     "metadata": {},
     "output_type": "execute_result"
    }
   ],
   "source": [
    "r = requests.get(\"https://dracor.org/api/info\")\n",
    "r.text"
   ]
  },
  {
   "cell_type": "markdown",
   "metadata": {},
   "source": [
    "The API returns this information in the JSON format, which you have to parse. You can use the library `json` for this."
   ]
  },
  {
   "cell_type": "code",
   "execution_count": 3,
   "metadata": {},
   "outputs": [
    {
     "data": {
      "text/plain": [
       "{'name': 'DraCor API',\n",
       " 'status': 'beta',\n",
       " 'existdb': '5.2.0',\n",
       " 'version': '0.82.0'}"
      ]
     },
     "execution_count": 3,
     "metadata": {},
     "output_type": "execute_result"
    }
   ],
   "source": [
    "import json\n",
    "parsedResponse = json.loads(r.text)\n",
    "parsedResponse"
   ]
  },
  {
   "cell_type": "markdown",
   "metadata": {},
   "source": [
    "To get the current version of the API"
   ]
  },
  {
   "cell_type": "code",
   "execution_count": 6,
   "metadata": {},
   "outputs": [
    {
     "name": "stdout",
     "output_type": "stream",
     "text": [
      "The current version of the Dracor-API is 0.82.0.\n"
     ]
    }
   ],
   "source": [
    "print(\"The current version of the Dracor-API is \" + parsedResponse['version'] + \".\")"
   ]
  },
  {
   "cell_type": "markdown",
   "metadata": {},
   "source": [
    "## `/corpora`: list available corpora \n",
    "\n",
    "Load available corpora and list name and title of each corpus."
   ]
  },
  {
   "cell_type": "code",
   "execution_count": 5,
   "metadata": {},
   "outputs": [
    {
     "name": "stdout",
     "output_type": "stream",
     "text": [
      "als: Alsatian Drama Corpus (25 plays)\n",
      "bash: Bashkir Drama Corpus (2 plays)\n",
      "cal: Calderón Drama Corpus (54 plays)\n",
      "fre: French Drama Corpus (1560 plays)\n",
      "ger: German Drama Corpus (545 plays)\n",
      "greek: Greek Drama Corpus (39 plays)\n",
      "ita: Italian Drama Corpus (139 plays)\n",
      "rom: Roman Drama Corpus (36 plays)\n",
      "rus: Russian Drama Corpus (212 plays)\n",
      "shake: Shakespeare Drama Corpus (37 plays)\n",
      "span: Spanish Drama Corpus (25 plays)\n",
      "swe: Swedish Drama Corpus (73 plays)\n",
      "tat: Tatar Drama Corpus (3 plays)\n"
     ]
    }
   ],
   "source": [
    "r = requests.get(\"https://dracor.org/api/corpora?include=metrics\")\n",
    "corpora = json.loads(r.text)\n",
    "corpora\n",
    "for corpus in corpora:\n",
    "    numofplays = corpus['metrics']['text']\n",
    "    print(corpus['name'] + \": \" + corpus['title'] + ' (' + str(numofplays) + ' plays)')"
   ]
  },
  {
   "cell_type": "markdown",
   "metadata": {},
   "source": [
    "## Function to handle the requests and parse the result\n",
    "Requesting data from the API in most cases follows a pattern:\n",
    " * construct the request-url. E.g. use `https://dracor.org/api/` as a base and attach `corpusname`, `playname`, a method, e.g. `cast` and in some cases a reponse-format, e.g. `csv`\n",
    " * use this constructed url in a request do the endpoint\n",
    " * retrieve the data and parse to a format, that can be than used in the program\n",
    " \n",
    "By defining a function, this process can be speed up. Instead of repeating the code, a function can be defined, that takes `corpusname`, `playname` and `method` as arguments. In the example we assume, that the response will be JSON."
   ]
  },
  {
   "cell_type": "markdown",
   "metadata": {},
   "source": [
    "Parsing of JSON is done with the package `json`, which needs to be imported:"
   ]
  },
  {
   "cell_type": "code",
   "execution_count": null,
   "metadata": {},
   "outputs": [],
   "source": [
    "import json"
   ]
  },
  {
   "cell_type": "markdown",
   "metadata": {},
   "source": [
    "The function accepts parameters as arguments, e.g. `corpusname=\"ger\"`. Following arguments are supported:\n",
    "\n",
    "* `apibase` (default will be `https://dracor.org/api/`)\n",
    "* `corpusname`\n",
    "* `playname`\n",
    "* `method`\n",
    "* `parse_json`: `True`, `False` (default) – will parse the response as `json`\n"
   ]
  },
  {
   "cell_type": "code",
   "execution_count": 27,
   "metadata": {},
   "outputs": [],
   "source": [
    "#corpusname:str -> []\n",
    "def get(**kwargs):\n",
    "    #corpusname=corpusname\n",
    "    #playname=playname\n",
    "    #apibase=\"https://dracor.org/api/\"\n",
    "    #method=method\n",
    "    #parse_json: True\n",
    "    \n",
    "    #could set different apibase, e.g. https://staging.dracor.org/api/ [not recommended, pls use the production server]\n",
    "    if \"apibase\" in kwargs:\n",
    "        if kwargs[\"apibase\"].endswith(\"/\"):\n",
    "            apibase = kwargs[\"apibase\"]\n",
    "        else:\n",
    "            apibase = kwargs[\"apibase\"] + \"/\"\n",
    "    else:\n",
    "        #use default\n",
    "        apibase = \"https://dracor.org/api/\"\n",
    "    if \"corpusname\" in kwargs and \"playname\" in kwargs:\n",
    "        # used for /api/corpora/{corpusname}/play/{playname}/\n",
    "        if \"method\" in kwargs[\"method\"]:\n",
    "            request_url = apibase + \"corpora/\" + kwargs[\"corpusname\"] + \"/play/\" + kwargs[\"playname\"] + \"/\" + kwargs[\"method\"]\n",
    "        else:\n",
    "            request_url = apibase + \"corpora/\" + kwargs[\"corpusname\"] + \"/play/\" + kwargs[\"playname\"]\n",
    "    elif \"corpusname\" in kwargs and not \"playname\" in kwargs:\n",
    "        if \"method\" in kwargs:\n",
    "            request_url = apibase + \"corpora/\" + kwargs[\"corpusname\"] + \"/\" + kwargs[\"method\"]\n",
    "        else:\n",
    "            request_url = apibase + \"corpora/\" + kwargs[\"corpusname\"] \n",
    "    elif \"method\" in kwargs and not \"corpusname\" in kwargs and not \"playname\" in kwargs:\n",
    "            request_url = apibase + kwargs[\"method\"]\n",
    "            \n",
    "    else: \n",
    "        #nothing set\n",
    "        request = request_url = apibase + \"info\"\n",
    "    \n",
    "    #send the response\n",
    "    r = requests.get(request_url)\n",
    "    if r.status_code == 200:\n",
    "        #success!\n",
    "        if \"parse_json\" in kwargs:\n",
    "            if kwargs[\"parse_json\"] == True:\n",
    "                json_data = json.loads(r.text)\n",
    "                return json_data\n",
    "            else:\n",
    "                return r.text\n",
    "        else:\n",
    "            return r.text\n",
    "    else:\n",
    "        raise Exception(\"Request was not successful. Server returned status code: \"  + str(r.status_code))\n",
    "       "
   ]
  },
  {
   "cell_type": "code",
   "execution_count": 28,
   "metadata": {},
   "outputs": [
    {
     "data": {
      "text/plain": [
       "{'segments': [{'number': 1,\n",
       "   'speakers': ['der_prinz', 'der_kammerdiener'],\n",
       "   'title': 'Erster Aufzug | Erster Auftritt',\n",
       "   'type': 'scene'},\n",
       "  {'number': 2,\n",
       "   'speakers': ['der_prinz', 'conti'],\n",
       "   'title': 'Erster Aufzug | Zweiter Auftritt',\n",
       "   'type': 'scene'},\n",
       "  {'number': 3,\n",
       "   'speakers': ['der_prinz'],\n",
       "   'title': 'Erster Aufzug | Dritter Auftritt',\n",
       "   'type': 'scene'},\n",
       "  {'number': 4,\n",
       "   'speakers': ['conti', 'der_prinz'],\n",
       "   'title': 'Erster Aufzug | Vierter Auftritt',\n",
       "   'type': 'scene'},\n",
       "  {'number': 5,\n",
       "   'speakers': ['der_prinz'],\n",
       "   'title': 'Erster Aufzug | Fünfter Auftritt',\n",
       "   'type': 'scene'},\n",
       "  {'number': 6,\n",
       "   'speakers': ['marinelli', 'der_prinz'],\n",
       "   'title': 'Erster Aufzug | Sechster Auftritt',\n",
       "   'type': 'scene'},\n",
       "  {'number': 7,\n",
       "   'speakers': ['der_prinz', 'der_kammerdiener'],\n",
       "   'title': 'Erster Aufzug | Siebenter Auftritt',\n",
       "   'type': 'scene'},\n",
       "  {'number': 8,\n",
       "   'speakers': ['der_prinz', 'camillo_rota'],\n",
       "   'title': 'Erster Aufzug | Achter Auftritt',\n",
       "   'type': 'scene'},\n",
       "  {'number': 9,\n",
       "   'speakers': ['claudia', 'pirro'],\n",
       "   'title': 'Zweiter Aufzug | Erster Auftritt',\n",
       "   'type': 'scene'},\n",
       "  {'number': 10,\n",
       "   'speakers': ['odoardo', 'claudia'],\n",
       "   'title': 'Zweiter Aufzug | Zweiter Auftritt',\n",
       "   'type': 'scene'},\n",
       "  {'number': 11,\n",
       "   'speakers': ['pirro', 'angelo'],\n",
       "   'title': 'Zweiter Aufzug | Dritter Auftritt',\n",
       "   'type': 'scene'},\n",
       "  {'number': 12,\n",
       "   'speakers': ['odoardo', 'claudia', 'pirro'],\n",
       "   'title': 'Zweiter Aufzug | Vierter Auftritt',\n",
       "   'type': 'scene'},\n",
       "  {'number': 13,\n",
       "   'speakers': ['claudia'],\n",
       "   'title': 'Zweiter Aufzug | Fünfter Auftritt',\n",
       "   'type': 'scene'},\n",
       "  {'number': 14,\n",
       "   'speakers': ['emilia', 'claudia'],\n",
       "   'title': 'Zweiter Aufzug | Sechster Auftritt',\n",
       "   'type': 'scene'},\n",
       "  {'number': 15,\n",
       "   'speakers': ['appiani', 'emilia', 'claudia'],\n",
       "   'title': 'Zweiter Aufzug | Siebenter Auftritt',\n",
       "   'type': 'scene'},\n",
       "  {'number': 16,\n",
       "   'speakers': ['appiani', 'claudia'],\n",
       "   'title': 'Zweiter Aufzug | Achter Auftritt',\n",
       "   'type': 'scene'},\n",
       "  {'number': 17,\n",
       "   'speakers': ['pirro', 'appiani', 'marinelli', 'claudia'],\n",
       "   'title': 'Zweiter Aufzug | Neunter Auftritt',\n",
       "   'type': 'scene'},\n",
       "  {'number': 18,\n",
       "   'speakers': ['appiani', 'marinelli'],\n",
       "   'title': 'Zweiter Aufzug | Zehnter Auftritt',\n",
       "   'type': 'scene'},\n",
       "  {'number': 19,\n",
       "   'speakers': ['appiani', 'claudia'],\n",
       "   'title': 'Zweiter Aufzug | Eilfter Auftritt',\n",
       "   'type': 'scene'},\n",
       "  {'number': 20,\n",
       "   'speakers': ['marinelli', 'der_prinz'],\n",
       "   'title': 'Dritter Aufzug | Erster Auftritt',\n",
       "   'type': 'scene'},\n",
       "  {'number': 21,\n",
       "   'speakers': ['marinelli', 'angelo'],\n",
       "   'title': 'Dritter Aufzug | Zweiter Auftritt',\n",
       "   'type': 'scene'},\n",
       "  {'number': 22,\n",
       "   'speakers': ['der_prinz', 'marinelli'],\n",
       "   'title': 'Dritter Aufzug | Dritter Auftritt',\n",
       "   'type': 'scene'},\n",
       "  {'number': 23,\n",
       "   'speakers': ['marinelli', 'battista', 'emilia'],\n",
       "   'title': 'Dritter Aufzug | Vierter Auftritt',\n",
       "   'type': 'scene'},\n",
       "  {'number': 24,\n",
       "   'speakers': ['der_prinz', 'emilia', 'marinelli'],\n",
       "   'title': 'Dritter Aufzug | Fünfter Auftritt',\n",
       "   'type': 'scene'},\n",
       "  {'number': 25,\n",
       "   'speakers': ['battista', 'marinelli', 'claudia'],\n",
       "   'title': 'Dritter Aufzug | Sechster Auftritt',\n",
       "   'type': 'scene'},\n",
       "  {'number': 26,\n",
       "   'speakers': ['claudia', 'battista'],\n",
       "   'title': 'Dritter Aufzug | Siebenter Auftritt',\n",
       "   'type': 'scene'},\n",
       "  {'number': 27,\n",
       "   'speakers': ['claudia', 'marinelli', 'emilia'],\n",
       "   'title': 'Dritter Aufzug | Achter Auftritt',\n",
       "   'type': 'scene'},\n",
       "  {'number': 28,\n",
       "   'speakers': ['der_prinz', 'marinelli'],\n",
       "   'title': 'Vierter Aufzug | Erster Auftritt',\n",
       "   'type': 'scene'},\n",
       "  {'number': 29,\n",
       "   'speakers': ['battista', 'der_prinz', 'marinelli'],\n",
       "   'title': 'Vierter Aufzug | Zweiter Auftritt',\n",
       "   'type': 'scene'},\n",
       "  {'number': 30,\n",
       "   'speakers': ['orsina', 'marinelli'],\n",
       "   'title': 'Vierter Aufzug | Dritter Auftritt',\n",
       "   'type': 'scene'},\n",
       "  {'number': 31,\n",
       "   'speakers': ['der_prinz', 'orsina'],\n",
       "   'title': 'Vierter Aufzug | Vierter Auftritt',\n",
       "   'type': 'scene'},\n",
       "  {'number': 32,\n",
       "   'speakers': ['marinelli', 'orsina'],\n",
       "   'title': 'Vierter Aufzug | Fünfter Auftritt',\n",
       "   'type': 'scene'},\n",
       "  {'number': 33,\n",
       "   'speakers': ['odoardo', 'orsina', 'marinelli'],\n",
       "   'title': 'Vierter Aufzug | Sechster Auftritt',\n",
       "   'type': 'scene'},\n",
       "  {'number': 34,\n",
       "   'speakers': ['orsina', 'odoardo'],\n",
       "   'title': 'Vierter Aufzug | Siebenter Auftritt',\n",
       "   'type': 'scene'},\n",
       "  {'number': 35,\n",
       "   'speakers': ['claudia', 'odoardo', 'orsina'],\n",
       "   'title': 'Vierter Aufzug | Achter Auftritt',\n",
       "   'type': 'scene'},\n",
       "  {'number': 36,\n",
       "   'speakers': ['marinelli', 'der_prinz'],\n",
       "   'title': 'Fünfter Aufzug | Erster Auftritt',\n",
       "   'type': 'scene'},\n",
       "  {'number': 37,\n",
       "   'speakers': ['odoardo'],\n",
       "   'title': 'Fünfter Aufzug | Zweiter Auftritt',\n",
       "   'type': 'scene'},\n",
       "  {'number': 38,\n",
       "   'speakers': ['marinelli', 'odoardo'],\n",
       "   'title': 'Fünfter Aufzug | Dritter Auftritt',\n",
       "   'type': 'scene'},\n",
       "  {'number': 39,\n",
       "   'speakers': ['odoardo'],\n",
       "   'title': 'Fünfter Aufzug | Vierter Auftritt',\n",
       "   'type': 'scene'},\n",
       "  {'number': 40,\n",
       "   'speakers': ['der_prinz', 'odoardo', 'marinelli'],\n",
       "   'title': 'Fünfter Aufzug | Fünfter Auftritt',\n",
       "   'type': 'scene'},\n",
       "  {'number': 41,\n",
       "   'speakers': ['odoardo'],\n",
       "   'title': 'Fünfter Aufzug | Sechster Auftritt',\n",
       "   'type': 'scene'},\n",
       "  {'number': 42,\n",
       "   'speakers': ['emilia', 'odoardo'],\n",
       "   'title': 'Fünfter Aufzug | Siebenter Auftritt',\n",
       "   'type': 'scene'},\n",
       "  {'number': 43,\n",
       "   'speakers': ['der_prinz', 'odoardo', 'marinelli', 'emilia'],\n",
       "   'title': 'Fünfter Aufzug | Achter Auftritt',\n",
       "   'type': 'scene'}],\n",
       " 'genre': 'Tragedy',\n",
       " 'authors': [{'refs': [{'ref': 'Q34628', 'type': 'wikidata'},\n",
       "    {'ref': '118572121', 'type': 'pnd'}],\n",
       "   'shortname': 'Lessing',\n",
       "   'name': 'Lessing, Gotthold Ephraim',\n",
       "   'fullname': 'Gotthold Ephraim Lessing'}],\n",
       " 'corpus': 'ger',\n",
       " 'author': {'name': 'Lessing, Gotthold Ephraim',\n",
       "  'warning': \"The single author property is deprecated. Use the array of 'authors' instead!\"},\n",
       " 'name': 'lessing-emilia-galotti',\n",
       " 'originalSource': 'Gotthold Ephraim Lessing: Werke. Herausgegeben von Herbert G. Göpfert in Zusammenarbeit mit Karl Eibl, Helmut Göbel, Karl S. Guthke, Gerd Hillen, Albert von Schirmding und Jörg Schönert, Band 1–8, München: Hanser, 1970 ff.',\n",
       " 'allInIndex': 0.6976744186046512,\n",
       " 'allInSegment': 30,\n",
       " 'yearPremiered': '1772',\n",
       " 'yearPrinted': '1772',\n",
       " 'yearNormalized': 1772,\n",
       " 'wikidataId': 'Q782653',\n",
       " 'relations': [{'directed': True,\n",
       "   'target': 'emilia',\n",
       "   'type': 'parent_of',\n",
       "   'source': 'odoardo'},\n",
       "  {'directed': True,\n",
       "   'target': 'emilia',\n",
       "   'type': 'parent_of',\n",
       "   'source': 'claudia'},\n",
       "  {'directed': True,\n",
       "   'target': 'der_prinz',\n",
       "   'type': 'associated_with',\n",
       "   'source': 'marinelli'},\n",
       "  {'directed': True,\n",
       "   'target': 'der_prinz',\n",
       "   'type': 'associated_with',\n",
       "   'source': 'camillo_rota'}],\n",
       " 'libretto': False,\n",
       " 'subtitle': 'Ein Trauerspiel in fünf Aufzügen',\n",
       " 'title': 'Emilia Galotti',\n",
       " 'yearWritten': None,\n",
       " 'source': {'name': 'TextGrid Repository',\n",
       "  'url': 'http://www.textgridrep.org/textgrid:rksp.0'},\n",
       " 'id': 'ger000088',\n",
       " 'cast': [{'sex': 'MALE',\n",
       "   'name': 'Der Prinz',\n",
       "   'isGroup': False,\n",
       "   'id': 'der_prinz'},\n",
       "  {'sex': 'MALE',\n",
       "   'name': 'Der Kammerdiener',\n",
       "   'isGroup': False,\n",
       "   'id': 'der_kammerdiener'},\n",
       "  {'sex': 'MALE', 'name': 'Conti', 'isGroup': False, 'id': 'conti'},\n",
       "  {'sex': 'MALE', 'name': 'Marinelli', 'isGroup': False, 'id': 'marinelli'},\n",
       "  {'sex': 'MALE',\n",
       "   'name': 'Camillo Rota',\n",
       "   'isGroup': False,\n",
       "   'id': 'camillo_rota'},\n",
       "  {'sex': 'FEMALE', 'name': 'Claudia', 'isGroup': False, 'id': 'claudia'},\n",
       "  {'sex': 'MALE', 'name': 'Pirro', 'isGroup': False, 'id': 'pirro'},\n",
       "  {'sex': 'MALE', 'name': 'Odoardo', 'isGroup': False, 'id': 'odoardo'},\n",
       "  {'sex': 'MALE', 'name': 'Angelo', 'isGroup': False, 'id': 'angelo'},\n",
       "  {'sex': 'FEMALE', 'name': 'Emilia', 'isGroup': False, 'id': 'emilia'},\n",
       "  {'sex': 'MALE', 'name': 'Appiani', 'isGroup': False, 'id': 'appiani'},\n",
       "  {'sex': 'MALE', 'name': 'Battista', 'isGroup': False, 'id': 'battista'},\n",
       "  {'sex': 'FEMALE', 'name': 'Orsina', 'isGroup': False, 'id': 'orsina'}]}"
      ]
     },
     "execution_count": 28,
     "metadata": {},
     "output_type": "execute_result"
    }
   ],
   "source": [
    "get(corpusname=\"ger\",playname=\"lessing-emilia-galotti\",method=\"metrics\",parse_json=True)"
   ]
  },
  {
   "cell_type": "code",
   "execution_count": 29,
   "metadata": {},
   "outputs": [
    {
     "data": {
      "text/plain": [
       "'{\\n  \"name\" : \"DraCor API\",\\n  \"status\" : \"beta\",\\n  \"existdb\" : \"5.2.0\",\\n  \"version\" : \"0.82.0\"\\n}'"
      ]
     },
     "execution_count": 29,
     "metadata": {},
     "output_type": "execute_result"
    }
   ],
   "source": [
    "get(method=\"info\")"
   ]
  },
  {
   "cell_type": "code",
   "execution_count": 31,
   "metadata": {},
   "outputs": [
    {
     "data": {
      "text/plain": [
       "[{'repository': 'https://github.com/dracor-org/alsdracor',\n",
       "  'name': 'als',\n",
       "  'uri': 'https://dracor.org/api/corpora/als',\n",
       "  'title': 'Alsatian Drama Corpus',\n",
       "  'description': 'Edited by Pablo Ruiz Fabo ([MeThAL project](https://methal.pages.unistra.fr/) at University of Strasbourg). Features a growing number of Alsation plays from the 19th and 20th century. For a corpus description and full credits please see the [README on GitHub](https://github.com/dracor-org/alsdracor).'},\n",
       " {'repository': 'https://github.com/dracor-org/bashdracor',\n",
       "  'name': 'bash',\n",
       "  'uri': 'https://dracor.org/api/corpora/bash',\n",
       "  'title': 'Bashkir Drama Corpus',\n",
       "  'description': 'Edited by Boris Orekhov. Contains a growing number of plays in the Bashkir language. Works still under copyright published with the permission of the rights holders.'},\n",
       " {'repository': 'https://github.com/dracor-org/caldracor',\n",
       "  'name': 'cal',\n",
       "  'uri': 'https://dracor.org/api/corpora/cal',\n",
       "  'title': 'Calderón Drama Corpus',\n",
       "  'description': 'Edited by members of the [Institute of Romance Languages and Literatures](https://uni-tuebingen.de/en/faculties/faculty-of-humanities/departments/modern-languages/romanisches-seminar/home/) of University of Tübingen.'},\n",
       " {'repository': 'https://github.com/dracor-org/fredracor',\n",
       "  'name': 'fre',\n",
       "  'uri': 'https://dracor.org/api/corpora/fre',\n",
       "  'licence': 'CC BY-NC-SA 4.0',\n",
       "  'title': 'French Drama Corpus',\n",
       "  'description': \"A [TEI P5](https://tei-c.org/guidelines/p5/) version of Paul Fièvre's [Théâtre Classique](https://www.theatre-classique.fr/index.html). Edited by Carsten Milling, Frank Fischer and Mathias Göbel. For corpus description and list of enhancements please consult the [README on GitHub](https://github.com/dracor-org/fredracor).\",\n",
       "  'licenceUrl': 'https://creativecommons.org/licenses/by-nc-sa/4.0/'},\n",
       " {'repository': 'https://github.com/dracor-org/gerdracor',\n",
       "  'name': 'ger',\n",
       "  'uri': 'https://dracor.org/api/corpora/ger',\n",
       "  'licence': 'CC0',\n",
       "  'title': 'German Drama Corpus',\n",
       "  'description': 'Edited by Frank Fischer and Peer Trilcke. Features more than 500 German-language plays from the 1730s to the 1940s. For a corpus description and full credits please see the [README on GitHub](https://github.com/dracor-org/gerdracor).',\n",
       "  'licenceUrl': 'https://creativecommons.org/share-your-work/public-domain/cc0/'},\n",
       " {'repository': 'https://github.com/dracor-org/greekdracor',\n",
       "  'name': 'greek',\n",
       "  'uri': 'https://dracor.org/api/corpora/greek',\n",
       "  'licence': 'CC BY-SA 3.0 US',\n",
       "  'title': 'Greek Drama Corpus',\n",
       "  'description': 'Derived from [Perseus Digital Library](http://www.perseus.tufts.edu/hopper/opensource/download), features 39 ancient Greek plays. Maintained by Boris Orekhov, Julia Jennifer Beine and Frank Fischer. Corpus description and list of enhancements in the [README on GitHub](https://github.com/dracor-org/greekdracor).',\n",
       "  'licenceUrl': 'https://creativecommons.org/licenses/by-sa/3.0/us/'},\n",
       " {'repository': 'https://github.com/dracor-org/itadracor',\n",
       "  'name': 'ita',\n",
       "  'uri': 'https://dracor.org/api/corpora/ita',\n",
       "  'title': 'Italian Drama Corpus',\n",
       "  'description': 'Derived from [Biblioteca Italiana](http://www.bibliotecaitaliana.it/), maintained by Frank Fischer and Carsten Milling. Features 139 Italian plays from 15th to 20th century. For corpus description and list of enhancements please consult the [README on GitHub](https://github.com/dracor-org/itadracor).'},\n",
       " {'repository': 'https://github.com/dracor-org/romdracor',\n",
       "  'name': 'rom',\n",
       "  'uri': 'https://dracor.org/api/corpora/rom',\n",
       "  'licence': 'CC BY-SA 3.0 US',\n",
       "  'title': 'Roman Drama Corpus',\n",
       "  'description': 'Derived from [Perseus Digital Library](http://www.perseus.tufts.edu/hopper/opensource/download), updated to [TEI P5](https://tei-c.org/guidelines/p5/) and enhanced by Julia Jennifer Beine (Ruhr University Bochum), Frank Fischer and Boris Orekhov (both Higher School of Economics, Moscow). Features 36 plays (20 comedies by **Plautus**, 6 comedies by **Terence**, 10 tragedies by **Seneca**). For corpus description and full credits please see the [README on GitHub](https://github.com/dracor-org/romdracor).',\n",
       "  'licenceUrl': 'https://creativecommons.org/licenses/by-sa/3.0/us/'},\n",
       " {'repository': 'https://github.com/dracor-org/rusdracor',\n",
       "  'name': 'rus',\n",
       "  'uri': 'https://dracor.org/api/corpora/rus',\n",
       "  'licence': 'CC0',\n",
       "  'title': 'Russian Drama Corpus',\n",
       "  'description': 'Edited by Frank Fischer and Daniil Skorinkin. Features more than 200 Russian plays from the 1740s to the 1940s. For a corpus description and full credits please see the [README on GitHub](https://github.com/dracor-org/rusdracor).',\n",
       "  'licenceUrl': 'https://creativecommons.org/share-your-work/public-domain/cc0/'},\n",
       " {'repository': 'https://github.com/dracor-org/shakedracor',\n",
       "  'name': 'shake',\n",
       "  'uri': 'https://dracor.org/api/corpora/shake',\n",
       "  'licence': 'CC BY-NC 3.0',\n",
       "  'title': 'Shakespeare Drama Corpus',\n",
       "  'description': 'Derived from the [Folger Shakespeare Library](https://shakespeare.folger.edu/). Enhancements documented in our [README at GitHub](https://github.com/dracor-org/shakedracor).',\n",
       "  'licenceUrl': 'https://creativecommons.org/licenses/by-nc/3.0/deed.en_US'},\n",
       " {'repository': 'https://github.com/dracor-org/spandracor',\n",
       "  'name': 'span',\n",
       "  'uri': 'https://dracor.org/api/corpora/span',\n",
       "  'title': 'Spanish Drama Corpus',\n",
       "  'description': 'Edited by [María Concepción Jiménez](https://www.unir.net/profesores/maria-concepcion-jimenez-fernandez/), [Teresa Santa María Fernández](https://www.unir.net/profesores/ma-teresa-santa-maria-fernandez/) and [José Calvo Tello](https://www.sub.uni-goettingen.de/kontakt/personen-a-z/personendetails/person/jose-calvo-tello/). Forked from the [BETTE corpus](https://github.com/GHEDI/BETTE) (Biblioteca Electrónica Textual del Teatro en Español de 1868–1936).'},\n",
       " {'repository': 'https://github.com/dracor-org/swedracor',\n",
       "  'name': 'swe',\n",
       "  'uri': 'https://dracor.org/api/corpora/swe',\n",
       "  'title': 'Swedish Drama Corpus',\n",
       "  'description': 'Derived from the [eDrama](http://www.dramawebben.se/sida/edrama) project. Features 68 Swedish plays from around 1880 to 1900. More information in the [README on GitHub](https://github.com/dracor-org/swedracor).'},\n",
       " {'repository': 'https://github.com/dracor-org/tatdracor',\n",
       "  'name': 'tat',\n",
       "  'uri': 'https://dracor.org/api/corpora/tat',\n",
       "  'title': 'Tatar Drama Corpus',\n",
       "  'description': 'Edited by Daniil Skorinkin and Frank Fischer. Features a handful of plays in Tatar language, provided through Tatar Electronic Library.'}]"
      ]
     },
     "execution_count": 31,
     "metadata": {},
     "output_type": "execute_result"
    }
   ],
   "source": [
    "get(method=\"corpora\",parse_json=True)"
   ]
  },
  {
   "cell_type": "code",
   "execution_count": null,
   "metadata": {},
   "outputs": [],
   "source": []
  }
 ],
 "metadata": {
  "kernelspec": {
   "display_name": "Python 3",
   "language": "python",
   "name": "python3"
  },
  "language_info": {
   "codemirror_mode": {
    "name": "ipython",
    "version": 3
   },
   "file_extension": ".py",
   "mimetype": "text/x-python",
   "name": "python",
   "nbconvert_exporter": "python",
   "pygments_lexer": "ipython3",
   "version": "3.7.0"
  }
 },
 "nbformat": 4,
 "nbformat_minor": 2
}
