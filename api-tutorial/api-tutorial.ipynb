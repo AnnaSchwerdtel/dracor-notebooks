{
 "cells": [
  {
   "cell_type": "markdown",
   "metadata": {},
   "source": [
    "# DraCor API Tutorial"
   ]
  },
  {
   "cell_type": "markdown",
   "metadata": {},
   "source": [
    "To use the [DraCor-API](https://dracor.org/doc/api) you need to send HTTP-Requests to the API: `https://dracor.org/api`. In Python HTTP-Request can be sent with the library [requests](https://2.python-requests.org). We have to import this library:"
   ]
  },
  {
   "cell_type": "code",
   "execution_count": 1,
   "metadata": {},
   "outputs": [],
   "source": [
    "import requests"
   ]
  },
  {
   "cell_type": "markdown",
   "metadata": {},
   "source": [
    "If it fails, the package must be installed first. Run `pip install `"
   ]
  },
  {
   "cell_type": "markdown",
   "metadata": {},
   "source": [
    "## `/info`: Info about the API "
   ]
  },
  {
   "cell_type": "code",
   "execution_count": 2,
   "metadata": {},
   "outputs": [
    {
     "data": {
      "text/plain": [
       "'{\\n  \"name\" : \"DraCor API\",\\n  \"status\" : \"beta\",\\n  \"existdb\" : \"5.2.0\",\\n  \"version\" : \"0.82.0\"\\n}'"
      ]
     },
     "execution_count": 2,
     "metadata": {},
     "output_type": "execute_result"
    }
   ],
   "source": [
    "r = requests.get(\"https://dracor.org/api/info\")\n",
    "r.text"
   ]
  },
  {
   "cell_type": "markdown",
   "metadata": {},
   "source": [
    "The API returns this information in the JSON format, which you have to parse. You can use the library `json` for this."
   ]
  },
  {
   "cell_type": "code",
   "execution_count": 3,
   "metadata": {},
   "outputs": [
    {
     "data": {
      "text/plain": [
       "{'name': 'DraCor API',\n",
       " 'status': 'beta',\n",
       " 'existdb': '5.2.0',\n",
       " 'version': '0.82.0'}"
      ]
     },
     "execution_count": 3,
     "metadata": {},
     "output_type": "execute_result"
    }
   ],
   "source": [
    "import json\n",
    "parsedResponse = json.loads(r.text)\n",
    "parsedResponse"
   ]
  },
  {
   "cell_type": "markdown",
   "metadata": {},
   "source": [
    "To get the current version of the API"
   ]
  },
  {
   "cell_type": "code",
   "execution_count": 6,
   "metadata": {},
   "outputs": [
    {
     "name": "stdout",
     "output_type": "stream",
     "text": [
      "The current version of the Dracor-API is 0.82.0.\n"
     ]
    }
   ],
   "source": [
    "print(\"The current version of the Dracor-API is \" + parsedResponse['version'] + \".\")"
   ]
  },
  {
   "cell_type": "markdown",
   "metadata": {},
   "source": [
    "## `/corpora`: list available corpora \n",
    "\n",
    "Load available corpora and list name and title of each corpus."
   ]
  },
  {
   "cell_type": "code",
   "execution_count": 5,
   "metadata": {},
   "outputs": [
    {
     "name": "stdout",
     "output_type": "stream",
     "text": [
      "als: Alsatian Drama Corpus (25 plays)\n",
      "bash: Bashkir Drama Corpus (2 plays)\n",
      "cal: Calderón Drama Corpus (54 plays)\n",
      "fre: French Drama Corpus (1560 plays)\n",
      "ger: German Drama Corpus (545 plays)\n",
      "greek: Greek Drama Corpus (39 plays)\n",
      "ita: Italian Drama Corpus (139 plays)\n",
      "rom: Roman Drama Corpus (36 plays)\n",
      "rus: Russian Drama Corpus (212 plays)\n",
      "shake: Shakespeare Drama Corpus (37 plays)\n",
      "span: Spanish Drama Corpus (25 plays)\n",
      "swe: Swedish Drama Corpus (73 plays)\n",
      "tat: Tatar Drama Corpus (3 plays)\n"
     ]
    }
   ],
   "source": [
    "r = requests.get(\"https://dracor.org/api/corpora?include=metrics\")\n",
    "corpora = json.loads(r.text)\n",
    "corpora\n",
    "for corpus in corpora:\n",
    "    numofplays = corpus['metrics']['text']\n",
    "    print(corpus['name'] + \": \" + corpus['title'] + ' (' + str(numofplays) + ' plays)')"
   ]
  },
  {
   "cell_type": "markdown",
   "metadata": {},
   "source": [
    "## Function to handle the requests and parse the result\n",
    "Requesting data from the API in most cases follows a pattern:\n",
    " * construct the request-url. E.g. use `https://dracor.org/api/` as a base and attach `corpusname`, `playname`, a method, e.g. `cast` and in some cases a reponse-format, e.g. `csv`\n",
    " * use this constructed url in a request do the endpoint\n",
    " * retrieve the data and parse to a format, that can be than used in the program\n",
    " \n",
    "By defining a function, this process can be speed up. Instead of repeating the code, a function can be defined, that takes `corpusname`, `playname` and `method` as arguments. In the example we assume, that the response will be JSON."
   ]
  },
  {
   "cell_type": "code",
   "execution_count": null,
   "metadata": {},
   "outputs": [],
   "source": [
    "def get_json(corpusname, playname, method):\n",
    "    "
   ]
  }
 ],
 "metadata": {
  "kernelspec": {
   "display_name": "Python 3",
   "language": "python",
   "name": "python3"
  },
  "language_info": {
   "codemirror_mode": {
    "name": "ipython",
    "version": 3
   },
   "file_extension": ".py",
   "mimetype": "text/x-python",
   "name": "python",
   "nbconvert_exporter": "python",
   "pygments_lexer": "ipython3",
   "version": "3.7.0"
  }
 },
 "nbformat": 4,
 "nbformat_minor": 2
}
