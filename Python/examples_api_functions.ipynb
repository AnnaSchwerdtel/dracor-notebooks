{
 "cells": [
  {
   "cell_type": "markdown",
   "metadata": {},
   "source": [
    "# Demo"
   ]
  },
  {
   "cell_type": "markdown",
   "metadata": {},
   "source": [
    "To use the DracorAPI you need to send HTTP-Requests to the DracorAPI `https://dracor.org/api`. In Python HTTP-Request can be sent with the library [requests](https://2.python-requests.org). We have to import this library:"
   ]
  },
  {
   "cell_type": "code",
   "execution_count": 1,
   "metadata": {},
   "outputs": [],
   "source": [
    "import requests"
   ]
  },
  {
   "cell_type": "markdown",
   "metadata": {},
   "source": [
    "## `/info`: Info about the API "
   ]
  },
  {
   "cell_type": "code",
   "execution_count": 12,
   "metadata": {},
   "outputs": [
    {
     "data": {
      "text/plain": [
       "'{\\n  \"name\" : \"DraCor API\",\\n  \"status\" : \"alpha\",\\n  \"existdb\" : \"4.7.0\",\\n  \"version\" : \"0.54.0\"\\n}'"
      ]
     },
     "execution_count": 12,
     "metadata": {},
     "output_type": "execute_result"
    }
   ],
   "source": [
    "r = requests.get(\"https://dracor.org/api/info\")\n",
    "r.text"
   ]
  },
  {
   "cell_type": "markdown",
   "metadata": {},
   "source": [
    "The API returns this information in the JSON format, which you have to parse. You can use the library `json` for this."
   ]
  },
  {
   "cell_type": "code",
   "execution_count": 14,
   "metadata": {},
   "outputs": [
    {
     "data": {
      "text/plain": [
       "{'name': 'DraCor API',\n",
       " 'status': 'alpha',\n",
       " 'existdb': '4.7.0',\n",
       " 'version': '0.54.0'}"
      ]
     },
     "execution_count": 14,
     "metadata": {},
     "output_type": "execute_result"
    }
   ],
   "source": [
    "import json\n",
    "parsedResponse = json.loads(r.text)\n",
    "parsedResponse"
   ]
  },
  {
   "cell_type": "markdown",
   "metadata": {},
   "source": [
    "To get the current version of the API"
   ]
  },
  {
   "cell_type": "code",
   "execution_count": 17,
   "metadata": {},
   "outputs": [
    {
     "name": "stdout",
     "output_type": "stream",
     "text": [
      "The current version of the DracorAPI is 0.54.0.\n"
     ]
    }
   ],
   "source": [
    "print(\"The current version of the DracorAPI is \" + parsedResponse['version'] + \".\")"
   ]
  },
  {
   "cell_type": "markdown",
   "metadata": {},
   "source": [
    "## `/corpora`: list available corpora \n",
    "\n",
    "Load available corpora and list name and title of each corpus."
   ]
  },
  {
   "cell_type": "code",
   "execution_count": 32,
   "metadata": {},
   "outputs": [
    {
     "name": "stdout",
     "output_type": "stream",
     "text": [
      "ger: German Drama Corpus (474 plays)\n",
      "greek: Greek Drama Corpus (39 plays)\n",
      "rom: Roman Drama Corpus (36 plays)\n",
      "rus: Russian Drama Corpus (190 plays)\n",
      "shake: Shakespeare Drama Corpus (37 plays)\n",
      "span: Spanish Drama Corpus (25 plays)\n"
     ]
    }
   ],
   "source": [
    "r = requests.get(\"https://dracor.org/api/corpora?include=metrics\")\n",
    "corpora = json.loads(r.text)\n",
    "corpora\n",
    "for corpus in corpora:\n",
    "    numofplays = corpus['metrics']['text']\n",
    "    print(corpus['name'] + \": \" + corpus['title'] + ' (' + str(numofplays) + ' plays)')"
   ]
  },
  {
   "cell_type": "code",
   "execution_count": null,
   "metadata": {},
   "outputs": [],
   "source": []
  }
 ],
 "metadata": {
  "kernelspec": {
   "display_name": "Python 3",
   "language": "python",
   "name": "python3"
  },
  "language_info": {
   "codemirror_mode": {
    "name": "ipython",
    "version": 3
   },
   "file_extension": ".py",
   "mimetype": "text/x-python",
   "name": "python",
   "nbconvert_exporter": "python",
   "pygments_lexer": "ipython3",
   "version": "3.7.0"
  }
 },
 "nbformat": 4,
 "nbformat_minor": 2
}
