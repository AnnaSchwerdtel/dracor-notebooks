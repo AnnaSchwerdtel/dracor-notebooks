{
 "cells": [
  {
   "cell_type": "markdown",
   "id": "celtic-lebanon",
   "metadata": {},
   "source": [
    "# Contrastive Text Analysis with Dracor and Scattertext\n",
    "\n",
    "[Scattertext](https://github.com/JasonKessler/scattertext) enables the two-dimensional visualization of linguistic differences of two groups of text. We here use it to contrast text from speakers of different gender."
   ]
  },
  {
   "cell_type": "markdown",
   "id": "asian-confidentiality",
   "metadata": {},
   "source": [
    "## Requirements\n",
    "\n",
    "We first install the libraries that are necessary to process the data:"
   ]
  },
  {
   "cell_type": "code",
   "execution_count": null,
   "id": "encouraging-ownership",
   "metadata": {},
   "outputs": [],
   "source": [
    "!pip install scattertext spacy spacy-transformers pandas pydracor\n",
    "!python -m spacy download de_dep_news_trf"
   ]
  },
  {
   "cell_type": "markdown",
   "id": "clean-scroll",
   "metadata": {},
   "source": [
    "## Acquiring the Corpus\n",
    "\n",
    "We download the text of each character for [Goethe's Faust](https://dracor.org/ger/goethe-faust-eine-tragoedie):"
   ]
  },
  {
   "cell_type": "code",
   "execution_count": null,
   "id": "ranging-complement",
   "metadata": {},
   "outputs": [],
   "source": [
    "%%time\n",
    "import pydracor\n",
    "\n",
    "play = pydracor.Play(play_name = \"goethe-faust-eine-tragoedie\")\n",
    "text = play.spoken_text_by_character()"
   ]
  },
  {
   "cell_type": "markdown",
   "id": "frank-christian",
   "metadata": {},
   "source": [
    "This gives us a list with information about all characters, including their gender and spoken text:"
   ]
  },
  {
   "cell_type": "code",
   "execution_count": null,
   "id": "employed-language",
   "metadata": {},
   "outputs": [],
   "source": [
    "text[23]"
   ]
  },
  {
   "cell_type": "markdown",
   "id": "fa4bf70a",
   "metadata": {},
   "source": [
    "The later steps are easier if we transform this into tabular data with the columns *Speaker*, *Gender*, *Text*:"
   ]
  },
  {
   "cell_type": "code",
   "execution_count": null,
   "id": "6a212af5",
   "metadata": {},
   "outputs": [],
   "source": [
    "import pandas as pd\n",
    "\n",
    "table = [(c[\"label\"], c[\"gender\"], \" \".join(c[\"text\"])) for c in text] # a list of tuples\n",
    "df = pd.DataFrame(table, columns=[\"Speaker\", \"Gender\", \"Text\"])     # a dataframe\n",
    "df"
   ]
  },
  {
   "cell_type": "markdown",
   "id": "administrative-meaning",
   "metadata": {},
   "source": [
    "What's the gender distribution of the speakers?"
   ]
  },
  {
   "cell_type": "code",
   "execution_count": null,
   "id": "derived-lightning",
   "metadata": {},
   "outputs": [],
   "source": [
    "df.Gender.value_counts()"
   ]
  },
  {
   "cell_type": "markdown",
   "id": "composed-times",
   "metadata": {},
   "source": [
    "We remove texts from speakers with unknown gender to enable visualization in two dimensions:"
   ]
  },
  {
   "cell_type": "code",
   "execution_count": null,
   "id": "suspected-deposit",
   "metadata": {},
   "outputs": [],
   "source": [
    "df = df[df.Gender != \"UNKNOWN\"]\n",
    "df.Gender.value_counts()"
   ]
  },
  {
   "cell_type": "markdown",
   "id": "corresponding-retirement",
   "metadata": {},
   "source": [
    "## Building the Scattertext Page\n",
    "\n",
    "We are basically following [this tutorial](https://github.com/JasonKessler/scattertext#using-scattertext-as-a-text-analysis-library-finding-characteristic-terms-and-their-associations). \n",
    "\n",
    "First, we load the trained language model: "
   ]
  },
  {
   "cell_type": "code",
   "execution_count": null,
   "id": "acting-minnesota",
   "metadata": {},
   "outputs": [],
   "source": [
    "import spacy\n",
    "nlp = spacy.load(\"de_dep_news_trf\")"
   ]
  },
  {
   "cell_type": "markdown",
   "id": "false-candidate",
   "metadata": {},
   "source": [
    "Then we create a Scattertext corpus:"
   ]
  },
  {
   "cell_type": "code",
   "execution_count": null,
   "id": "rubber-camcorder",
   "metadata": {},
   "outputs": [],
   "source": [
    "import scattertext as st\n",
    "corpus = st.CorpusFromPandas(df, category_col='Gender', text_col='Text', nlp=nlp).build()"
   ]
  },
  {
   "cell_type": "markdown",
   "id": "voluntary-cattle",
   "metadata": {},
   "source": [
    "And we print the terms \"that differentiate the corpus from a general German corpus\":"
   ]
  },
  {
   "cell_type": "code",
   "execution_count": null,
   "id": "rural-fence",
   "metadata": {},
   "outputs": [],
   "source": [
    "list(corpus.get_scaled_f_scores_vs_background().index[:10])"
   ]
  },
  {
   "cell_type": "markdown",
   "id": "medieval-vitamin",
   "metadata": {},
   "source": [
    "Then we can create a HTML page showing the visualization of Scattertext:"
   ]
  },
  {
   "cell_type": "code",
   "execution_count": null,
   "id": "prospective-denver",
   "metadata": {},
   "outputs": [],
   "source": [
    "html = st.produce_scattertext_explorer(corpus,\n",
    "          category='MALE',\n",
    "          category_name='Male',\n",
    "          not_category_name='Female',\n",
    "          width_in_pixels=1000,\n",
    "          metadata=df['Speaker'])\n",
    "open(play.name + \".html\", 'wb').write(html.encode('utf-8'))"
   ]
  },
  {
   "cell_type": "markdown",
   "id": "becoming-dover",
   "metadata": {},
   "source": [
    "Here's the result: [goethe-faust-eine-tragoedie.html](goethe-faust-eine-tragoedie.html)"
   ]
  }
 ],
 "metadata": {
  "language_info": {
   "name": "python",
   "pygments_lexer": "ipython3"
  }
 },
 "nbformat": 4,
 "nbformat_minor": 5
}
