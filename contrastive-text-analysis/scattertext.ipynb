{
 "cells": [
  {
   "cell_type": "markdown",
   "id": "celtic-lebanon",
   "metadata": {},
   "source": [
    "# Contrastive Text Analysis with Dracor and Scattertext\n",
    "\n",
    "[Scattertext](https://github.com/JasonKessler/scattertext) enables the two-dimensional visualization of linguistic differences of two groups of text. We here use it to contrast text from speakers of different gender."
   ]
  },
  {
   "cell_type": "markdown",
   "id": "asian-confidentiality",
   "metadata": {},
   "source": [
    "## Requirements\n",
    "\n",
    "We first install the libraries that are necessary to process the data:"
   ]
  },
  {
   "cell_type": "code",
   "execution_count": null,
   "id": "encouraging-ownership",
   "metadata": {},
   "outputs": [],
   "source": [
    "!pip install scattertext spacy spacy-transformers pandas\n",
    "!python -m spacy download de_dep_news_trf"
   ]
  },
  {
   "cell_type": "markdown",
   "id": "clean-scroll",
   "metadata": {},
   "source": [
    "## Acquiring the Corpus"
   ]
  },
  {
   "cell_type": "code",
   "execution_count": null,
   "id": "ranging-complement",
   "metadata": {},
   "outputs": [],
   "source": [
    "from io import StringIO\n",
    "import pandas as pd\n",
    "from urllib import request\n",
    "import json\n",
    "\n",
    "dracor_api = \"https://dracor.org/api\"                # API endpoint for DraCor\n",
    "\n",
    "def get_character_text(corpus, play):\n",
    "    url = dracor_api + \"/corpora/\" + corpus + \"/play/\" + play + \"/spoken-text-by-character\"\n",
    "    req = request.Request(url)\n",
    "    req.add_header(\"Accept\", \"text/csv\")\n",
    "    with request.urlopen(req) as resp:               # download data\n",
    "        data = resp.read().decode()\n",
    "        return pd.read_csv(StringIO(data))           # parse CSV into dataframe"
   ]
  },
  {
   "cell_type": "markdown",
   "id": "frank-christian",
   "metadata": {},
   "source": [
    "We download the speaker text for [Goethe's Faust](https://dracor.org/ger/goethe-faust-eine-tragoedie):"
   ]
  },
  {
   "cell_type": "code",
   "execution_count": null,
   "id": "employed-language",
   "metadata": {},
   "outputs": [],
   "source": [
    "play = \"goethe-faust-eine-tragoedie\"\n",
    "text = get_character_text(\"ger\", play)"
   ]
  },
  {
   "cell_type": "markdown",
   "id": "administrative-meaning",
   "metadata": {},
   "source": [
    "What's the gender distribution of the speakers?"
   ]
  },
  {
   "cell_type": "code",
   "execution_count": null,
   "id": "derived-lightning",
   "metadata": {},
   "outputs": [],
   "source": [
    "text.Gender.value_counts()"
   ]
  },
  {
   "cell_type": "markdown",
   "id": "composed-times",
   "metadata": {},
   "source": [
    "We remove texts from speakers with unknown gender to enable visualization in two dimensions:"
   ]
  },
  {
   "cell_type": "code",
   "execution_count": null,
   "id": "suspected-deposit",
   "metadata": {},
   "outputs": [],
   "source": [
    "text = text[text.Gender != \"UNKNOWN\"]"
   ]
  },
  {
   "cell_type": "markdown",
   "id": "corresponding-retirement",
   "metadata": {},
   "source": [
    "## Building the Scattertext Page\n",
    "\n",
    "We are basically following [this tutorial](https://github.com/JasonKessler/scattertext#using-scattertext-as-a-text-analysis-library-finding-characteristic-terms-and-their-associations). \n",
    "\n",
    "First, we load the trained language model: "
   ]
  },
  {
   "cell_type": "code",
   "execution_count": null,
   "id": "acting-minnesota",
   "metadata": {},
   "outputs": [],
   "source": [
    "import spacy\n",
    "nlp = spacy.load(\"de_dep_news_trf\")"
   ]
  },
  {
   "cell_type": "markdown",
   "id": "false-candidate",
   "metadata": {},
   "source": [
    "Then we create a Scattertext corpus:"
   ]
  },
  {
   "cell_type": "code",
   "execution_count": null,
   "id": "rubber-camcorder",
   "metadata": {},
   "outputs": [],
   "source": [
    "import scattertext as st\n",
    "corpus = st.CorpusFromPandas(text, category_col='Gender', text_col='Text', nlp=nlp).build()"
   ]
  },
  {
   "cell_type": "markdown",
   "id": "voluntary-cattle",
   "metadata": {},
   "source": [
    "And we print the terms \"that differentiate the corpus from a general German corpus\":"
   ]
  },
  {
   "cell_type": "code",
   "execution_count": null,
   "id": "rural-fence",
   "metadata": {},
   "outputs": [],
   "source": [
    "list(corpus.get_scaled_f_scores_vs_background().index[:10])"
   ]
  },
  {
   "cell_type": "markdown",
   "id": "medieval-vitamin",
   "metadata": {},
   "source": [
    "Then we can create a HTML page showing the visualization of Scattertext:"
   ]
  },
  {
   "cell_type": "code",
   "execution_count": null,
   "id": "prospective-denver",
   "metadata": {},
   "outputs": [],
   "source": [
    "html = st.produce_scattertext_explorer(corpus,\n",
    "          category='MALE',\n",
    "          category_name='Male',\n",
    "          not_category_name='Female',\n",
    "          width_in_pixels=1000,\n",
    "          metadata=text['Label'])\n",
    "open(play + \".html\", 'wb').write(html.encode('utf-8'))"
   ]
  },
  {
   "cell_type": "markdown",
   "id": "becoming-dover",
   "metadata": {},
   "source": [
    "Here's the result: [goethe-faust-eine-tragoedie.html](goethe-faust-eine-tragoedie.html)"
   ]
  }
 ],
 "metadata": {
  "language_info": {
   "name": "python",
   "pygments_lexer": "ipython3"
  }
 },
 "nbformat": 4,
 "nbformat_minor": 5
}
